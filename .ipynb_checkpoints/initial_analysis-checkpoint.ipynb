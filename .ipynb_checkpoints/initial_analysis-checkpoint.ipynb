{
 "cells": [
  {
   "cell_type": "code",
   "execution_count": 3,
   "metadata": {},
   "outputs": [],
   "source": [
    "import pandas as pd\n",
    "import numpy as np"
   ]
  },
  {
   "cell_type": "code",
   "execution_count": 4,
   "metadata": {},
   "outputs": [],
   "source": [
    "data = pd.read_csv(\"pollution_2000_2021.csv\")"
   ]
  },
  {
   "cell_type": "code",
   "execution_count": 11,
   "metadata": {},
   "outputs": [
    {
     "data": {
      "text/plain": [
       "pandas.core.frame.DataFrame"
      ]
     },
     "execution_count": 11,
     "metadata": {},
     "output_type": "execute_result"
    }
   ],
   "source": [
    "type(data)"
   ]
  },
  {
   "cell_type": "code",
   "execution_count": 18,
   "metadata": {},
   "outputs": [
    {
     "name": "stdout",
     "output_type": "stream",
     "text": [
      "<class 'pandas.core.frame.DataFrame'>\n",
      "RangeIndex: 608699 entries, 0 to 608698\n",
      "Data columns (total 24 columns):\n",
      " #   Column             Non-Null Count   Dtype  \n",
      "---  ------             --------------   -----  \n",
      " 0   Date               608699 non-null  object \n",
      " 1   Year               608699 non-null  int64  \n",
      " 2   Month              608699 non-null  int64  \n",
      " 3   Day                608699 non-null  int64  \n",
      " 4   Address            608699 non-null  object \n",
      " 5   State              608699 non-null  object \n",
      " 6   County             608699 non-null  object \n",
      " 7   City               608699 non-null  object \n",
      " 8   O3 Mean            608699 non-null  float64\n",
      " 9   O3 1st Max Value   608699 non-null  float64\n",
      " 10  O3 1st Max Hour    608699 non-null  int64  \n",
      " 11  O3 AQI             608699 non-null  int64  \n",
      " 12  CO Mean            608699 non-null  float64\n",
      " 13  CO 1st Max Value   608699 non-null  float64\n",
      " 14  CO 1st Max Hour    608699 non-null  int64  \n",
      " 15  CO AQI             608699 non-null  float64\n",
      " 16  SO2 Mean           608699 non-null  float64\n",
      " 17  SO2 1st Max Value  608699 non-null  float64\n",
      " 18  SO2 1st Max Hour   608699 non-null  int64  \n",
      " 19  SO2 AQI            608699 non-null  float64\n",
      " 20  NO2 Mean           608699 non-null  float64\n",
      " 21  NO2 1st Max Value  608699 non-null  float64\n",
      " 22  NO2 1st Max Hour   608699 non-null  int64  \n",
      " 23  NO2 AQI            608699 non-null  int64  \n",
      "dtypes: float64(10), int64(9), object(5)\n",
      "memory usage: 111.5+ MB\n"
     ]
    }
   ],
   "source": [
    "data.info()"
   ]
  },
  {
   "cell_type": "code",
   "execution_count": 21,
   "metadata": {},
   "outputs": [
    {
     "data": {
      "text/plain": [
       "Date                 0\n",
       "Year                 0\n",
       "Month                0\n",
       "Day                  0\n",
       "Address              0\n",
       "State                0\n",
       "County               0\n",
       "City                 0\n",
       "O3 Mean              0\n",
       "O3 1st Max Value     0\n",
       "O3 1st Max Hour      0\n",
       "O3 AQI               0\n",
       "CO Mean              0\n",
       "CO 1st Max Value     0\n",
       "CO 1st Max Hour      0\n",
       "CO AQI               0\n",
       "SO2 Mean             0\n",
       "SO2 1st Max Value    0\n",
       "SO2 1st Max Hour     0\n",
       "SO2 AQI              0\n",
       "NO2 Mean             0\n",
       "NO2 1st Max Value    0\n",
       "NO2 1st Max Hour     0\n",
       "NO2 AQI              0\n",
       "dtype: int64"
      ]
     },
     "execution_count": 21,
     "metadata": {},
     "output_type": "execute_result"
    }
   ],
   "source": [
    "data.isnull().sum()\n",
    "# dataFrame.isnull().sum() this function is going to turn each entry in bool value\n",
    "# and then sum() will make an addition by columns of the null values."
   ]
  },
  {
   "cell_type": "code",
   "execution_count": 26,
   "metadata": {},
   "outputs": [
    {
     "data": {
      "text/plain": [
       "14608776"
      ]
     },
     "execution_count": 26,
     "metadata": {},
     "output_type": "execute_result"
    }
   ],
   "source": [
    "np.product(data.shape)\n",
    "# using numpy, product will multiply the shape of the dataframe\n",
    "# dataFrame.shape will retrieve the dimensions of the matrix."
   ]
  },
  {
   "cell_type": "code",
   "execution_count": 29,
   "metadata": {},
   "outputs": [
    {
     "data": {
      "text/plain": [
       "0.0"
      ]
     },
     "execution_count": 29,
     "metadata": {},
     "output_type": "execute_result"
    }
   ],
   "source": [
    "(data.isnull().sum().sum())/(np.product(data.shape))\n",
    "# this is the ratio of null values from the whole data we got."
   ]
  },
  {
   "cell_type": "code",
   "execution_count": 31,
   "metadata": {},
   "outputs": [
    {
     "data": {
      "text/plain": [
       "24"
      ]
     },
     "execution_count": 31,
     "metadata": {},
     "output_type": "execute_result"
    }
   ],
   "source": [
    "data.shape[1]\n",
    "# shape returns the matrix dimension where the second entry is the columns. rows x columns"
   ]
  },
  {
   "cell_type": "code",
   "execution_count": 33,
   "metadata": {},
   "outputs": [
    {
     "data": {
      "text/plain": [
       "608699"
      ]
     },
     "execution_count": 33,
     "metadata": {},
     "output_type": "execute_result"
    }
   ],
   "source": [
    "data.shape[0]"
   ]
  },
  {
   "cell_type": "code",
   "execution_count": null,
   "metadata": {},
   "outputs": [],
   "source": []
  }
 ],
 "metadata": {
  "kernelspec": {
   "display_name": "Python 3",
   "language": "python",
   "name": "python3"
  },
  "language_info": {
   "codemirror_mode": {
    "name": "ipython",
    "version": 3
   },
   "file_extension": ".py",
   "mimetype": "text/x-python",
   "name": "python",
   "nbconvert_exporter": "python",
   "pygments_lexer": "ipython3",
   "version": "3.7.6"
  }
 },
 "nbformat": 4,
 "nbformat_minor": 4
}
