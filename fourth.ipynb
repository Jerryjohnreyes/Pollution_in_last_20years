{
 "cells": [
  {
   "cell_type": "code",
   "execution_count": 1,
   "metadata": {},
   "outputs": [],
   "source": [
    "import pandas as pd\n",
    "import matplotlib.pyplot as plt\n",
    "import numpy as np\n",
    "import seaborn as sn\n",
    "import math, random"
   ]
  },
  {
   "cell_type": "code",
   "execution_count": 2,
   "metadata": {},
   "outputs": [],
   "source": [
    "data = pd.read_csv(\"pollution.csv\", index_col=0)"
   ]
  },
  {
   "cell_type": "code",
   "execution_count": 3,
   "metadata": {},
   "outputs": [
    {
     "data": {
      "text/html": [
       "<div>\n",
       "<style scoped>\n",
       "    .dataframe tbody tr th:only-of-type {\n",
       "        vertical-align: middle;\n",
       "    }\n",
       "\n",
       "    .dataframe tbody tr th {\n",
       "        vertical-align: top;\n",
       "    }\n",
       "\n",
       "    .dataframe thead th {\n",
       "        text-align: right;\n",
       "    }\n",
       "</style>\n",
       "<table border=\"1\" class=\"dataframe\">\n",
       "  <thead>\n",
       "    <tr style=\"text-align: right;\">\n",
       "      <th></th>\n",
       "      <th>o3mean</th>\n",
       "      <th>o3firstMax</th>\n",
       "      <th>o3firstMaxHour</th>\n",
       "      <th>o3aqi</th>\n",
       "      <th>comean</th>\n",
       "      <th>cofirstMax</th>\n",
       "      <th>cofirstMaxHour</th>\n",
       "      <th>coaqi</th>\n",
       "      <th>so2mean</th>\n",
       "      <th>so2firstMax</th>\n",
       "      <th>so2firstMaxHour</th>\n",
       "      <th>so2aqi</th>\n",
       "      <th>no2mean</th>\n",
       "      <th>no2firstMax</th>\n",
       "      <th>no2firstMaxHour</th>\n",
       "      <th>no2aqi</th>\n",
       "    </tr>\n",
       "  </thead>\n",
       "  <tbody>\n",
       "    <tr>\n",
       "      <th>0</th>\n",
       "      <td>0.018235</td>\n",
       "      <td>0.031</td>\n",
       "      <td>11.0</td>\n",
       "      <td>29.0</td>\n",
       "      <td>0.387500</td>\n",
       "      <td>0.5</td>\n",
       "      <td>0.0</td>\n",
       "      <td>6.0</td>\n",
       "      <td>0.333333</td>\n",
       "      <td>2.0</td>\n",
       "      <td>7</td>\n",
       "      <td>3.0</td>\n",
       "      <td>18.708333</td>\n",
       "      <td>39.0</td>\n",
       "      <td>23</td>\n",
       "      <td>37.0</td>\n",
       "    </tr>\n",
       "    <tr>\n",
       "      <th>1</th>\n",
       "      <td>0.028353</td>\n",
       "      <td>0.035</td>\n",
       "      <td>7.0</td>\n",
       "      <td>32.0</td>\n",
       "      <td>0.429167</td>\n",
       "      <td>0.6</td>\n",
       "      <td>19.0</td>\n",
       "      <td>7.0</td>\n",
       "      <td>0.000000</td>\n",
       "      <td>0.0</td>\n",
       "      <td>0</td>\n",
       "      <td>0.0</td>\n",
       "      <td>18.583333</td>\n",
       "      <td>33.0</td>\n",
       "      <td>17</td>\n",
       "      <td>31.0</td>\n",
       "    </tr>\n",
       "    <tr>\n",
       "      <th>2</th>\n",
       "      <td>0.019353</td>\n",
       "      <td>0.034</td>\n",
       "      <td>10.0</td>\n",
       "      <td>31.0</td>\n",
       "      <td>0.458333</td>\n",
       "      <td>0.7</td>\n",
       "      <td>0.0</td>\n",
       "      <td>8.0</td>\n",
       "      <td>0.000000</td>\n",
       "      <td>0.0</td>\n",
       "      <td>0</td>\n",
       "      <td>0.0</td>\n",
       "      <td>24.083333</td>\n",
       "      <td>41.0</td>\n",
       "      <td>18</td>\n",
       "      <td>39.0</td>\n",
       "    </tr>\n",
       "    <tr>\n",
       "      <th>3</th>\n",
       "      <td>0.021235</td>\n",
       "      <td>0.036</td>\n",
       "      <td>11.0</td>\n",
       "      <td>33.0</td>\n",
       "      <td>0.508333</td>\n",
       "      <td>0.7</td>\n",
       "      <td>12.0</td>\n",
       "      <td>8.0</td>\n",
       "      <td>0.226087</td>\n",
       "      <td>0.8</td>\n",
       "      <td>21</td>\n",
       "      <td>0.0</td>\n",
       "      <td>25.428571</td>\n",
       "      <td>45.0</td>\n",
       "      <td>22</td>\n",
       "      <td>42.0</td>\n",
       "    </tr>\n",
       "    <tr>\n",
       "      <th>4</th>\n",
       "      <td>0.040882</td>\n",
       "      <td>0.052</td>\n",
       "      <td>10.0</td>\n",
       "      <td>48.0</td>\n",
       "      <td>0.316667</td>\n",
       "      <td>0.4</td>\n",
       "      <td>9.0</td>\n",
       "      <td>5.0</td>\n",
       "      <td>0.000000</td>\n",
       "      <td>0.0</td>\n",
       "      <td>0</td>\n",
       "      <td>0.0</td>\n",
       "      <td>8.666667</td>\n",
       "      <td>16.0</td>\n",
       "      <td>4</td>\n",
       "      <td>15.0</td>\n",
       "    </tr>\n",
       "  </tbody>\n",
       "</table>\n",
       "</div>"
      ],
      "text/plain": [
       "     o3mean  o3firstMax  o3firstMaxHour  o3aqi    comean  cofirstMax  \\\n",
       "0  0.018235       0.031            11.0   29.0  0.387500         0.5   \n",
       "1  0.028353       0.035             7.0   32.0  0.429167         0.6   \n",
       "2  0.019353       0.034            10.0   31.0  0.458333         0.7   \n",
       "3  0.021235       0.036            11.0   33.0  0.508333         0.7   \n",
       "4  0.040882       0.052            10.0   48.0  0.316667         0.4   \n",
       "\n",
       "   cofirstMaxHour  coaqi   so2mean  so2firstMax  so2firstMaxHour  so2aqi  \\\n",
       "0             0.0    6.0  0.333333          2.0                7     3.0   \n",
       "1            19.0    7.0  0.000000          0.0                0     0.0   \n",
       "2             0.0    8.0  0.000000          0.0                0     0.0   \n",
       "3            12.0    8.0  0.226087          0.8               21     0.0   \n",
       "4             9.0    5.0  0.000000          0.0                0     0.0   \n",
       "\n",
       "     no2mean  no2firstMax  no2firstMaxHour  no2aqi  \n",
       "0  18.708333         39.0               23    37.0  \n",
       "1  18.583333         33.0               17    31.0  \n",
       "2  24.083333         41.0               18    39.0  \n",
       "3  25.428571         45.0               22    42.0  \n",
       "4   8.666667         16.0                4    15.0  "
      ]
     },
     "execution_count": 3,
     "metadata": {},
     "output_type": "execute_result"
    }
   ],
   "source": [
    "data.head(5)"
   ]
  },
  {
   "cell_type": "code",
   "execution_count": 4,
   "metadata": {},
   "outputs": [
    {
     "data": {
      "text/plain": [
       "<matplotlib.image.AxesImage at 0x1eb11e4bf48>"
      ]
     },
     "execution_count": 4,
     "metadata": {},
     "output_type": "execute_result"
    },
    {
     "data": {
      "image/png": "[encoded data removed]",
      "text/plain": [
       "<Figure size 288x288 with 1 Axes>"
      ]
     },
     "metadata": {
      "needs_background": "light"
     },
     "output_type": "display_data"
    }
   ],
   "source": [
    "plt.matshow(data.corr())"
   ]
  },
  {
   "cell_type": "code",
   "execution_count": 5,
   "metadata": {},
   "outputs": [],
   "source": [
    "from scipy import stats"
   ]
  },
  {
   "cell_type": "code",
   "execution_count": null,
   "metadata": {},
   "outputs": [],
   "source": [
    "for col1 in data.columns:\n",
    "    for col2 in data.columns:\n",
    "        a,b = stats.pearsonr(data[col1],data[col2])\n",
    "        if (abs(a) <0.4):\n",
    "            print(\"corr: \", col1, \" - \", col2, \": \", a)\n",
    "        \n",
    "    "
   ]
  },
  {
   "cell_type": "code",
   "execution_count": 6,
   "metadata": {},
   "outputs": [
    {
     "data": {
      "text/plain": [
       "Index(['o3mean', 'o3firstMax', 'o3firstMaxHour', 'o3aqi', 'comean',\n",
       "       'cofirstMax', 'cofirstMaxHour', 'coaqi', 'so2mean', 'so2firstMax',\n",
       "       'so2firstMaxHour', 'so2aqi', 'no2mean', 'no2firstMax',\n",
       "       'no2firstMaxHour', 'no2aqi'],\n",
       "      dtype='object')"
      ]
     },
     "execution_count": 6,
     "metadata": {},
     "output_type": "execute_result"
    }
   ],
   "source": [
    "data.columns"
   ]
  },
  {
   "cell_type": "code",
   "execution_count": 7,
   "metadata": {},
   "outputs": [],
   "source": [
    "datos = pd.DataFrame({'o3mean':data.o3mean,'comean': data.comean,\n",
    "                      'so2mean':data.so2mean, 'no2mean': data.no2mean})"
   ]
  },
  {
   "cell_type": "code",
   "execution_count": 8,
   "metadata": {},
   "outputs": [
    {
     "data": {
      "text/html": [
       "<div>\n",
       "<style scoped>\n",
       "    .dataframe tbody tr th:only-of-type {\n",
       "        vertical-align: middle;\n",
       "    }\n",
       "\n",
       "    .dataframe tbody tr th {\n",
       "        vertical-align: top;\n",
       "    }\n",
       "\n",
       "    .dataframe thead th {\n",
       "        text-align: right;\n",
       "    }\n",
       "</style>\n",
       "<table border=\"1\" class=\"dataframe\">\n",
       "  <thead>\n",
       "    <tr style=\"text-align: right;\">\n",
       "      <th></th>\n",
       "      <th>o3mean</th>\n",
       "      <th>comean</th>\n",
       "      <th>so2mean</th>\n",
       "      <th>no2mean</th>\n",
       "    </tr>\n",
       "  </thead>\n",
       "  <tbody>\n",
       "    <tr>\n",
       "      <th>0</th>\n",
       "      <td>0.018235</td>\n",
       "      <td>0.387500</td>\n",
       "      <td>0.333333</td>\n",
       "      <td>18.708333</td>\n",
       "    </tr>\n",
       "    <tr>\n",
       "      <th>1</th>\n",
       "      <td>0.028353</td>\n",
       "      <td>0.429167</td>\n",
       "      <td>0.000000</td>\n",
       "      <td>18.583333</td>\n",
       "    </tr>\n",
       "    <tr>\n",
       "      <th>2</th>\n",
       "      <td>0.019353</td>\n",
       "      <td>0.458333</td>\n",
       "      <td>0.000000</td>\n",
       "      <td>24.083333</td>\n",
       "    </tr>\n",
       "    <tr>\n",
       "      <th>3</th>\n",
       "      <td>0.021235</td>\n",
       "      <td>0.508333</td>\n",
       "      <td>0.226087</td>\n",
       "      <td>25.428571</td>\n",
       "    </tr>\n",
       "    <tr>\n",
       "      <th>4</th>\n",
       "      <td>0.040882</td>\n",
       "      <td>0.316667</td>\n",
       "      <td>0.000000</td>\n",
       "      <td>8.666667</td>\n",
       "    </tr>\n",
       "    <tr>\n",
       "      <th>...</th>\n",
       "      <td>...</td>\n",
       "      <td>...</td>\n",
       "      <td>...</td>\n",
       "      <td>...</td>\n",
       "    </tr>\n",
       "    <tr>\n",
       "      <th>306099</th>\n",
       "      <td>0.040588</td>\n",
       "      <td>0.100000</td>\n",
       "      <td>0.409091</td>\n",
       "      <td>1.281818</td>\n",
       "    </tr>\n",
       "    <tr>\n",
       "      <th>306100</th>\n",
       "      <td>0.037882</td>\n",
       "      <td>0.100000</td>\n",
       "      <td>0.325000</td>\n",
       "      <td>1.104167</td>\n",
       "    </tr>\n",
       "    <tr>\n",
       "      <th>306101</th>\n",
       "      <td>0.039765</td>\n",
       "      <td>0.100000</td>\n",
       "      <td>0.326087</td>\n",
       "      <td>1.678261</td>\n",
       "    </tr>\n",
       "    <tr>\n",
       "      <th>306102</th>\n",
       "      <td>0.049176</td>\n",
       "      <td>0.066667</td>\n",
       "      <td>0.317391</td>\n",
       "      <td>2.934783</td>\n",
       "    </tr>\n",
       "    <tr>\n",
       "      <th>306103</th>\n",
       "      <td>0.052333</td>\n",
       "      <td>0.054167</td>\n",
       "      <td>0.366667</td>\n",
       "      <td>2.762500</td>\n",
       "    </tr>\n",
       "  </tbody>\n",
       "</table>\n",
       "<p>306104 rows × 4 columns</p>\n",
       "</div>"
      ],
      "text/plain": [
       "          o3mean    comean   so2mean    no2mean\n",
       "0       0.018235  0.387500  0.333333  18.708333\n",
       "1       0.028353  0.429167  0.000000  18.583333\n",
       "2       0.019353  0.458333  0.000000  24.083333\n",
       "3       0.021235  0.508333  0.226087  25.428571\n",
       "4       0.040882  0.316667  0.000000   8.666667\n",
       "...          ...       ...       ...        ...\n",
       "306099  0.040588  0.100000  0.409091   1.281818\n",
       "306100  0.037882  0.100000  0.325000   1.104167\n",
       "306101  0.039765  0.100000  0.326087   1.678261\n",
       "306102  0.049176  0.066667  0.317391   2.934783\n",
       "306103  0.052333  0.054167  0.366667   2.762500\n",
       "\n",
       "[306104 rows x 4 columns]"
      ]
     },
     "execution_count": 8,
     "metadata": {},
     "output_type": "execute_result"
    }
   ],
   "source": [
    "datos"
   ]
  },
  {
   "cell_type": "code",
   "execution_count": 9,
   "metadata": {},
   "outputs": [
    {
     "data": {
      "text/plain": [
       "<matplotlib.image.AxesImage at 0x1eb12e78608>"
      ]
     },
     "execution_count": 9,
     "metadata": {},
     "output_type": "execute_result"
    },
    {
     "data": {
      "image/png": "[encoded data removed]",
      "text/plain": [
       "<Figure size 288x288 with 1 Axes>"
      ]
     },
     "metadata": {
      "needs_background": "light"
     },
     "output_type": "display_data"
    }
   ],
   "source": [
    "plt.matshow(datos.corr())"
   ]
  },
  {
   "cell_type": "code",
   "execution_count": 10,
   "metadata": {},
   "outputs": [],
   "source": [
    "from mlxtend.preprocessing import minmax_scaling"
   ]
  },
  {
   "cell_type": "code",
   "execution_count": 11,
   "metadata": {},
   "outputs": [],
   "source": [
    "scaled_data = minmax_scaling(datos, columns=['o3mean'])"
   ]
  },
  {
   "cell_type": "code",
   "execution_count": null,
   "metadata": {},
   "outputs": [],
   "source": [
    "plt.hist(scaled_data)"
   ]
  },
  {
   "cell_type": "code",
   "execution_count": null,
   "metadata": {},
   "outputs": [],
   "source": [
    "from scipy import stats"
   ]
  },
  {
   "cell_type": "code",
   "execution_count": null,
   "metadata": {},
   "outputs": [],
   "source": [
    "normalized_data = stats.boxcox(datos['o3mean'])"
   ]
  },
  {
   "cell_type": "code",
   "execution_count": null,
   "metadata": {},
   "outputs": [],
   "source": [
    "plt.hist(normalized_data)"
   ]
  },
  {
   "cell_type": "code",
   "execution_count": null,
   "metadata": {},
   "outputs": [],
   "source": []
  },
  {
   "cell_type": "code",
   "execution_count": null,
   "metadata": {},
   "outputs": [],
   "source": []
  },
  {
   "cell_type": "code",
   "execution_count": null,
   "metadata": {},
   "outputs": [],
   "source": []
  },
  {
   "cell_type": "code",
   "execution_count": null,
   "metadata": {},
   "outputs": [],
   "source": []
  },
  {
   "cell_type": "code",
   "execution_count": null,
   "metadata": {},
   "outputs": [],
   "source": [
    "plt.hist(datos.o3mean)"
   ]
  },
  {
   "cell_type": "code",
   "execution_count": null,
   "metadata": {},
   "outputs": [],
   "source": [
    "plt.hist(datos.comean)"
   ]
  },
  {
   "cell_type": "code",
   "execution_count": null,
   "metadata": {},
   "outputs": [],
   "source": [
    "plt.hist(datos.so2mean)"
   ]
  },
  {
   "cell_type": "code",
   "execution_count": null,
   "metadata": {},
   "outputs": [],
   "source": [
    "plt.hist(datos.no2mean)"
   ]
  },
  {
   "cell_type": "code",
   "execution_count": null,
   "metadata": {},
   "outputs": [],
   "source": [
    "plt.boxplot(datos.o3mean)"
   ]
  },
  {
   "cell_type": "code",
   "execution_count": null,
   "metadata": {},
   "outputs": [],
   "source": [
    "plt.boxplot(datos.comean)"
   ]
  },
  {
   "cell_type": "code",
   "execution_count": null,
   "metadata": {},
   "outputs": [],
   "source": [
    "plt.boxplot(datos.no2mean)"
   ]
  },
  {
   "cell_type": "code",
   "execution_count": null,
   "metadata": {},
   "outputs": [],
   "source": [
    "plt.boxplot(datos.so2mean)"
   ]
  },
  {
   "cell_type": "code",
   "execution_count": null,
   "metadata": {},
   "outputs": [],
   "source": [
    "plt.scatter(datos.o3mean, datos.so2mean)"
   ]
  },
  {
   "cell_type": "code",
   "execution_count": null,
   "metadata": {},
   "outputs": [],
   "source": []
  }
 ],
 "metadata": {
  "kernelspec": {
   "display_name": "Python 3",
   "language": "python",
   "name": "python3"
  },
  "language_info": {
   "codemirror_mode": {
    "name": "ipython",
    "version": 3
   },
   "file_extension": ".py",
   "mimetype": "text/x-python",
   "name": "python",
   "nbconvert_exporter": "python",
   "pygments_lexer": "ipython3",
   "version": "3.7.6"
  }
 },
 "nbformat": 4,
 "nbformat_minor": 4
}
