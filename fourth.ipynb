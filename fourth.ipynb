{
 "cells": [
  {
   "cell_type": "code",
   "execution_count": 1,
   "metadata": {},
   "outputs": [],
   "source": [
    "import pandas as pd\n",
    "import matplotlib.pyplot as plt\n",
    "import numpy as np\n",
    "import seaborn as sn\n",
    "import math, random"
   ]
  },
  {
   "cell_type": "code",
   "execution_count": 7,
   "metadata": {},
   "outputs": [],
   "source": [
    "data = pd.read_csv(\"pollution.csv\", index_col=0)"
   ]
  },
  {
   "cell_type": "code",
   "execution_count": 10,
   "metadata": {},
   "outputs": [
    {
     "data": {
      "text/html": [
       "<div>\n",
       "<style scoped>\n",
       "    .dataframe tbody tr th:only-of-type {\n",
       "        vertical-align: middle;\n",
       "    }\n",
       "\n",
       "    .dataframe tbody tr th {\n",
       "        vertical-align: top;\n",
       "    }\n",
       "\n",
       "    .dataframe thead th {\n",
       "        text-align: right;\n",
       "    }\n",
       "</style>\n",
       "<table border=\"1\" class=\"dataframe\">\n",
       "  <thead>\n",
       "    <tr style=\"text-align: right;\">\n",
       "      <th></th>\n",
       "      <th>o3mean</th>\n",
       "      <th>o3firstMax</th>\n",
       "      <th>o3firstMaxHour</th>\n",
       "      <th>o3aqi</th>\n",
       "      <th>comean</th>\n",
       "      <th>cofirstMax</th>\n",
       "      <th>cofirstMaxHour</th>\n",
       "      <th>coaqi</th>\n",
       "      <th>so2mean</th>\n",
       "      <th>so2firstMax</th>\n",
       "      <th>so2firstMaxHour</th>\n",
       "      <th>so2aqi</th>\n",
       "      <th>no2mean</th>\n",
       "      <th>no2firstMax</th>\n",
       "      <th>no2firstMaxHour</th>\n",
       "      <th>no2aqi</th>\n",
       "    </tr>\n",
       "  </thead>\n",
       "  <tbody>\n",
       "    <tr>\n",
       "      <th>0</th>\n",
       "      <td>0.018235</td>\n",
       "      <td>0.031</td>\n",
       "      <td>11.0</td>\n",
       "      <td>29.0</td>\n",
       "      <td>0.387500</td>\n",
       "      <td>0.5</td>\n",
       "      <td>0.0</td>\n",
       "      <td>6.0</td>\n",
       "      <td>0.333333</td>\n",
       "      <td>2.0</td>\n",
       "      <td>7</td>\n",
       "      <td>3.0</td>\n",
       "      <td>18.708333</td>\n",
       "      <td>39.0</td>\n",
       "      <td>23</td>\n",
       "      <td>37.0</td>\n",
       "    </tr>\n",
       "    <tr>\n",
       "      <th>1</th>\n",
       "      <td>0.028353</td>\n",
       "      <td>0.035</td>\n",
       "      <td>7.0</td>\n",
       "      <td>32.0</td>\n",
       "      <td>0.429167</td>\n",
       "      <td>0.6</td>\n",
       "      <td>19.0</td>\n",
       "      <td>7.0</td>\n",
       "      <td>0.000000</td>\n",
       "      <td>0.0</td>\n",
       "      <td>0</td>\n",
       "      <td>0.0</td>\n",
       "      <td>18.583333</td>\n",
       "      <td>33.0</td>\n",
       "      <td>17</td>\n",
       "      <td>31.0</td>\n",
       "    </tr>\n",
       "    <tr>\n",
       "      <th>2</th>\n",
       "      <td>0.019353</td>\n",
       "      <td>0.034</td>\n",
       "      <td>10.0</td>\n",
       "      <td>31.0</td>\n",
       "      <td>0.458333</td>\n",
       "      <td>0.7</td>\n",
       "      <td>0.0</td>\n",
       "      <td>8.0</td>\n",
       "      <td>0.000000</td>\n",
       "      <td>0.0</td>\n",
       "      <td>0</td>\n",
       "      <td>0.0</td>\n",
       "      <td>24.083333</td>\n",
       "      <td>41.0</td>\n",
       "      <td>18</td>\n",
       "      <td>39.0</td>\n",
       "    </tr>\n",
       "    <tr>\n",
       "      <th>3</th>\n",
       "      <td>0.021235</td>\n",
       "      <td>0.036</td>\n",
       "      <td>11.0</td>\n",
       "      <td>33.0</td>\n",
       "      <td>0.508333</td>\n",
       "      <td>0.7</td>\n",
       "      <td>12.0</td>\n",
       "      <td>8.0</td>\n",
       "      <td>0.226087</td>\n",
       "      <td>0.8</td>\n",
       "      <td>21</td>\n",
       "      <td>0.0</td>\n",
       "      <td>25.428571</td>\n",
       "      <td>45.0</td>\n",
       "      <td>22</td>\n",
       "      <td>42.0</td>\n",
       "    </tr>\n",
       "    <tr>\n",
       "      <th>4</th>\n",
       "      <td>0.040882</td>\n",
       "      <td>0.052</td>\n",
       "      <td>10.0</td>\n",
       "      <td>48.0</td>\n",
       "      <td>0.316667</td>\n",
       "      <td>0.4</td>\n",
       "      <td>9.0</td>\n",
       "      <td>5.0</td>\n",
       "      <td>0.000000</td>\n",
       "      <td>0.0</td>\n",
       "      <td>0</td>\n",
       "      <td>0.0</td>\n",
       "      <td>8.666667</td>\n",
       "      <td>16.0</td>\n",
       "      <td>4</td>\n",
       "      <td>15.0</td>\n",
       "    </tr>\n",
       "  </tbody>\n",
       "</table>\n",
       "</div>"
      ],
      "text/plain": [
       "     o3mean  o3firstMax  o3firstMaxHour  o3aqi    comean  cofirstMax  \\\n",
       "0  0.018235       0.031            11.0   29.0  0.387500         0.5   \n",
       "1  0.028353       0.035             7.0   32.0  0.429167         0.6   \n",
       "2  0.019353       0.034            10.0   31.0  0.458333         0.7   \n",
       "3  0.021235       0.036            11.0   33.0  0.508333         0.7   \n",
       "4  0.040882       0.052            10.0   48.0  0.316667         0.4   \n",
       "\n",
       "   cofirstMaxHour  coaqi   so2mean  so2firstMax  so2firstMaxHour  so2aqi  \\\n",
       "0             0.0    6.0  0.333333          2.0                7     3.0   \n",
       "1            19.0    7.0  0.000000          0.0                0     0.0   \n",
       "2             0.0    8.0  0.000000          0.0                0     0.0   \n",
       "3            12.0    8.0  0.226087          0.8               21     0.0   \n",
       "4             9.0    5.0  0.000000          0.0                0     0.0   \n",
       "\n",
       "     no2mean  no2firstMax  no2firstMaxHour  no2aqi  \n",
       "0  18.708333         39.0               23    37.0  \n",
       "1  18.583333         33.0               17    31.0  \n",
       "2  24.083333         41.0               18    39.0  \n",
       "3  25.428571         45.0               22    42.0  \n",
       "4   8.666667         16.0                4    15.0  "
      ]
     },
     "execution_count": 10,
     "metadata": {},
     "output_type": "execute_result"
    }
   ],
   "source": [
    "data.head(5)"
   ]
  },
  {
   "cell_type": "code",
   "execution_count": 11,
   "metadata": {},
   "outputs": [
    {
     "data": {
      "text/plain": [
       "<matplotlib.image.AxesImage at 0x1b4c0acc7c8>"
      ]
     },
     "execution_count": 11,
     "metadata": {},
     "output_type": "execute_result"
    },
    {
     "data": {
      "image/png": "[encoded data removed]",
      "text/plain": [
       "<Figure size 288x288 with 1 Axes>"
      ]
     },
     "metadata": {
      "needs_background": "light"
     },
     "output_type": "display_data"
    }
   ],
   "source": [
    "plt.matshow(data.corr())"
   ]
  },
  {
   "cell_type": "code",
   "execution_count": 12,
   "metadata": {},
   "outputs": [],
   "source": [
    "from scipy import stats"
   ]
  },
  {
   "cell_type": "code",
   "execution_count": 31,
   "metadata": {},
   "outputs": [
    {
     "name": "stdout",
     "output_type": "stream",
     "text": [
      "corr:  o3mean  -  o3firstMaxHour :  0.1935369324545776\n",
      "corr:  o3mean  -  comean :  -0.15921110507511105\n",
      "corr:  o3mean  -  cofirstMax :  -0.17620363945792028\n",
      "corr:  o3mean  -  cofirstMaxHour :  -0.10504819692319421\n",
      "corr:  o3mean  -  coaqi :  -0.17757735393421004\n",
      "corr:  o3mean  -  so2mean :  -0.03075684152993607\n",
      "corr:  o3mean  -  so2firstMax :  -0.034222120506924955\n",
      "corr:  o3mean  -  so2firstMaxHour :  -0.04613241087114561\n",
      "corr:  o3mean  -  so2aqi :  -0.03166655727074906\n",
      "corr:  o3mean  -  no2mean :  -0.2667656604175751\n",
      "corr:  o3mean  -  no2firstMax :  -0.1563646036637305\n",
      "corr:  o3mean  -  no2firstMaxHour :  -0.2171127675793112\n",
      "corr:  o3mean  -  no2aqi :  -0.1553413114396697\n",
      "corr:  o3firstMax  -  o3firstMaxHour :  0.18948490643824745\n",
      "corr:  o3firstMax  -  comean :  -0.041755293141345386\n",
      "corr:  o3firstMax  -  cofirstMax :  -0.02653913773663806\n",
      "corr:  o3firstMax  -  cofirstMaxHour :  -0.057423558774113787\n",
      "corr:  o3firstMax  -  coaqi :  -0.026986257637490282\n",
      "corr:  o3firstMax  -  so2mean :  0.00889910559441635\n",
      "corr:  o3firstMax  -  so2firstMax :  0.03300715732465156\n",
      "corr:  o3firstMax  -  so2firstMaxHour :  0.0022177760672160204\n",
      "corr:  o3firstMax  -  so2aqi :  0.02878433222779088\n",
      "corr:  o3firstMax  -  no2mean :  -0.033989163714172814\n",
      "corr:  o3firstMax  -  no2firstMax :  0.0824634434239193\n",
      "corr:  o3firstMax  -  no2firstMaxHour :  -0.08817318483040383\n",
      "corr:  o3firstMax  -  no2aqi :  0.08315957355897158\n",
      "corr:  o3firstMaxHour  -  o3mean :  0.1935369324545776\n",
      "corr:  o3firstMaxHour  -  o3firstMax :  0.18948490643824745\n",
      "corr:  o3firstMaxHour  -  o3aqi :  0.1861828323355602\n",
      "corr:  o3firstMaxHour  -  comean :  0.03578735590213954\n",
      "corr:  o3firstMaxHour  -  cofirstMax :  0.04775688953978628\n",
      "corr:  o3firstMaxHour  -  cofirstMaxHour :  -0.004300067513970211\n",
      "corr:  o3firstMaxHour  -  coaqi :  0.046233132821535336\n",
      "corr:  o3firstMaxHour  -  so2mean :  0.005262315751155618\n",
      "corr:  o3firstMaxHour  -  so2firstMax :  0.036812186662848106\n",
      "corr:  o3firstMaxHour  -  so2firstMaxHour :  0.01599355523481919\n",
      "corr:  o3firstMaxHour  -  so2aqi :  0.03580140405138581\n",
      "corr:  o3firstMaxHour  -  no2mean :  0.06661566795008228\n",
      "corr:  o3firstMaxHour  -  no2firstMax :  0.06589680547508692\n",
      "corr:  o3firstMaxHour  -  no2firstMaxHour :  -0.06405074529750863\n",
      "corr:  o3firstMaxHour  -  no2aqi :  0.06595399154783216\n",
      "corr:  o3aqi  -  o3firstMaxHour :  0.1861828323355602\n",
      "corr:  o3aqi  -  comean :  -0.0382053683992002\n",
      "corr:  o3aqi  -  cofirstMax :  -0.023088160296039353\n",
      "corr:  o3aqi  -  cofirstMaxHour :  -0.05465612901230718\n",
      "corr:  o3aqi  -  coaqi :  -0.023446192319464505\n",
      "corr:  o3aqi  -  so2mean :  0.011598515139081682\n",
      "corr:  o3aqi  -  so2firstMax :  0.035421296240788144\n",
      "corr:  o3aqi  -  so2firstMaxHour :  0.004277186533598402\n",
      "corr:  o3aqi  -  so2aqi :  0.030767102410433667\n",
      "corr:  o3aqi  -  no2mean :  -0.026866065585462857\n",
      "corr:  o3aqi  -  no2firstMax :  0.08677590302676554\n",
      "corr:  o3aqi  -  no2firstMaxHour :  -0.08690765367133858\n",
      "corr:  o3aqi  -  no2aqi :  0.08743742679746846\n",
      "corr:  comean  -  o3mean :  -0.15921110507511105\n",
      "corr:  comean  -  o3firstMax :  -0.041755293141345386\n",
      "corr:  comean  -  o3firstMaxHour :  0.03578735590213954\n",
      "corr:  comean  -  o3aqi :  -0.0382053683992002\n",
      "corr:  comean  -  cofirstMaxHour :  0.11550603669170911\n",
      "corr:  comean  -  so2mean :  0.21844016865961985\n",
      "corr:  comean  -  so2firstMax :  0.20316672335363362\n",
      "corr:  comean  -  so2firstMaxHour :  0.02534138960416157\n",
      "corr:  comean  -  so2aqi :  0.18929642897782942\n",
      "corr:  comean  -  no2firstMaxHour :  0.010539935338802852\n",
      "corr:  cofirstMax  -  o3mean :  -0.17620363945792028\n",
      "corr:  cofirstMax  -  o3firstMax :  -0.02653913773663806\n",
      "corr:  cofirstMax  -  o3firstMaxHour :  0.04775688953978628\n",
      "corr:  cofirstMax  -  o3aqi :  -0.023088160296039353\n",
      "corr:  cofirstMax  -  cofirstMaxHour :  0.19463611142261394\n",
      "corr:  cofirstMax  -  so2mean :  0.21002435250688567\n",
      "corr:  cofirstMax  -  so2firstMax :  0.21901760405741846\n",
      "corr:  cofirstMax  -  so2firstMaxHour :  0.01680038218886337\n",
      "corr:  cofirstMax  -  so2aqi :  0.2033123034099223\n",
      "corr:  cofirstMax  -  no2firstMaxHour :  -0.00788029640387667\n",
      "corr:  cofirstMaxHour  -  o3mean :  -0.10504819692319421\n",
      "corr:  cofirstMaxHour  -  o3firstMax :  -0.057423558774113787\n",
      "corr:  cofirstMaxHour  -  o3firstMaxHour :  -0.004300067513970211\n",
      "corr:  cofirstMaxHour  -  o3aqi :  -0.05465612901230718\n",
      "corr:  cofirstMaxHour  -  comean :  0.11550603669170911\n",
      "corr:  cofirstMaxHour  -  cofirstMax :  0.19463611142261394\n",
      "corr:  cofirstMaxHour  -  coaqi :  0.19302935927596648\n",
      "corr:  cofirstMaxHour  -  so2mean :  0.04919265303584144\n",
      "corr:  cofirstMaxHour  -  so2firstMax :  0.07088997573894244\n",
      "corr:  cofirstMaxHour  -  so2firstMaxHour :  0.04994918635991489\n",
      "corr:  cofirstMaxHour  -  so2aqi :  0.0699152528743486\n",
      "corr:  cofirstMaxHour  -  no2mean :  0.1952352170735351\n",
      "corr:  cofirstMaxHour  -  no2firstMax :  0.19046819892398514\n",
      "corr:  cofirstMaxHour  -  no2firstMaxHour :  0.0959320246227496\n",
      "corr:  cofirstMaxHour  -  no2aqi :  0.19104469133236793\n",
      "corr:  coaqi  -  o3mean :  -0.17757735393421004\n",
      "corr:  coaqi  -  o3firstMax :  -0.026986257637490282\n",
      "corr:  coaqi  -  o3firstMaxHour :  0.046233132821535336\n",
      "corr:  coaqi  -  o3aqi :  -0.023446192319464505\n",
      "corr:  coaqi  -  cofirstMaxHour :  0.19302935927596648\n",
      "corr:  coaqi  -  so2mean :  0.21484647186841854\n",
      "corr:  coaqi  -  so2firstMax :  0.22477900143762747\n",
      "corr:  coaqi  -  so2firstMaxHour :  0.013821231730386902\n",
      "corr:  coaqi  -  so2aqi :  0.21063149398063535\n",
      "corr:  coaqi  -  no2firstMaxHour :  -0.009919639109624243\n",
      "corr:  so2mean  -  o3mean :  -0.03075684152993607\n",
      "corr:  so2mean  -  o3firstMax :  0.00889910559441635\n",
      "corr:  so2mean  -  o3firstMaxHour :  0.005262315751155618\n",
      "corr:  so2mean  -  o3aqi :  0.011598515139081682\n",
      "corr:  so2mean  -  comean :  0.21844016865961985\n",
      "corr:  so2mean  -  cofirstMax :  0.21002435250688567\n",
      "corr:  so2mean  -  cofirstMaxHour :  0.04919265303584144\n",
      "corr:  so2mean  -  coaqi :  0.21484647186841854\n",
      "corr:  so2mean  -  so2firstMaxHour :  0.1082427273060448\n",
      "corr:  so2mean  -  no2mean :  0.23260032601787048\n",
      "corr:  so2mean  -  no2firstMax :  0.21118584815330793\n",
      "corr:  so2mean  -  no2firstMaxHour :  0.005832376390546576\n",
      "corr:  so2mean  -  no2aqi :  0.2140967677177718\n",
      "corr:  so2firstMax  -  o3mean :  -0.034222120506924955\n",
      "corr:  so2firstMax  -  o3firstMax :  0.03300715732465156\n",
      "corr:  so2firstMax  -  o3firstMaxHour :  0.036812186662848106\n",
      "corr:  so2firstMax  -  o3aqi :  0.035421296240788144\n",
      "corr:  so2firstMax  -  comean :  0.20316672335363362\n",
      "corr:  so2firstMax  -  cofirstMax :  0.21901760405741846\n",
      "corr:  so2firstMax  -  cofirstMaxHour :  0.07088997573894244\n",
      "corr:  so2firstMax  -  coaqi :  0.22477900143762747\n",
      "corr:  so2firstMax  -  so2firstMaxHour :  0.23571574505182624\n",
      "corr:  so2firstMax  -  no2mean :  0.30150877315725866\n",
      "corr:  so2firstMax  -  no2firstMax :  0.2882042619747297\n",
      "corr:  so2firstMax  -  no2firstMaxHour :  -0.002656478446597537\n",
      "corr:  so2firstMax  -  no2aqi :  0.29185422259471216\n",
      "corr:  so2firstMaxHour  -  o3mean :  -0.04613241087114561\n",
      "corr:  so2firstMaxHour  -  o3firstMax :  0.0022177760672160204\n",
      "corr:  so2firstMaxHour  -  o3firstMaxHour :  0.01599355523481919\n",
      "corr:  so2firstMaxHour  -  o3aqi :  0.004277186533598402\n",
      "corr:  so2firstMaxHour  -  comean :  0.02534138960416157\n",
      "corr:  so2firstMaxHour  -  cofirstMax :  0.01680038218886337\n",
      "corr:  so2firstMaxHour  -  cofirstMaxHour :  0.04994918635991489\n",
      "corr:  so2firstMaxHour  -  coaqi :  0.013821231730386902\n",
      "corr:  so2firstMaxHour  -  so2mean :  0.1082427273060448\n",
      "corr:  so2firstMaxHour  -  so2firstMax :  0.23571574505182624\n",
      "corr:  so2firstMaxHour  -  so2aqi :  0.16370533323594333\n",
      "corr:  so2firstMaxHour  -  no2mean :  0.09971135085454151\n",
      "corr:  so2firstMaxHour  -  no2firstMax :  0.10208533747352908\n",
      "corr:  so2firstMaxHour  -  no2firstMaxHour :  0.14056477453584687\n",
      "corr:  so2firstMaxHour  -  no2aqi :  0.09786466300444621\n",
      "corr:  so2aqi  -  o3mean :  -0.03166655727074906\n",
      "corr:  so2aqi  -  o3firstMax :  0.02878433222779088\n",
      "corr:  so2aqi  -  o3firstMaxHour :  0.03580140405138581\n",
      "corr:  so2aqi  -  o3aqi :  0.030767102410433667\n",
      "corr:  so2aqi  -  comean :  0.18929642897782942\n",
      "corr:  so2aqi  -  cofirstMax :  0.2033123034099223\n",
      "corr:  so2aqi  -  cofirstMaxHour :  0.0699152528743486\n",
      "corr:  so2aqi  -  coaqi :  0.21063149398063535\n"
     ]
    },
    {
     "name": "stdout",
     "output_type": "stream",
     "text": [
      "corr:  so2aqi  -  so2firstMaxHour :  0.16370533323594333\n",
      "corr:  so2aqi  -  no2mean :  0.2703335084731345\n",
      "corr:  so2aqi  -  no2firstMax :  0.25460025711006057\n",
      "corr:  so2aqi  -  no2firstMaxHour :  -0.004601963848529456\n",
      "corr:  so2aqi  -  no2aqi :  0.26032657486604793\n",
      "corr:  no2mean  -  o3mean :  -0.2667656604175751\n",
      "corr:  no2mean  -  o3firstMax :  -0.033989163714172814\n",
      "corr:  no2mean  -  o3firstMaxHour :  0.06661566795008228\n",
      "corr:  no2mean  -  o3aqi :  -0.026866065585462857\n",
      "corr:  no2mean  -  cofirstMaxHour :  0.1952352170735351\n",
      "corr:  no2mean  -  so2mean :  0.23260032601787048\n",
      "corr:  no2mean  -  so2firstMax :  0.30150877315725866\n",
      "corr:  no2mean  -  so2firstMaxHour :  0.09971135085454151\n",
      "corr:  no2mean  -  so2aqi :  0.2703335084731345\n",
      "corr:  no2mean  -  no2firstMaxHour :  0.07192939848455282\n",
      "corr:  no2firstMax  -  o3mean :  -0.1563646036637305\n",
      "corr:  no2firstMax  -  o3firstMax :  0.0824634434239193\n",
      "corr:  no2firstMax  -  o3firstMaxHour :  0.06589680547508692\n",
      "corr:  no2firstMax  -  o3aqi :  0.08677590302676554\n",
      "corr:  no2firstMax  -  cofirstMaxHour :  0.19046819892398514\n",
      "corr:  no2firstMax  -  so2mean :  0.21118584815330793\n",
      "corr:  no2firstMax  -  so2firstMax :  0.2882042619747297\n",
      "corr:  no2firstMax  -  so2firstMaxHour :  0.10208533747352908\n",
      "corr:  no2firstMax  -  so2aqi :  0.25460025711006057\n",
      "corr:  no2firstMax  -  no2firstMaxHour :  0.07795192902813944\n",
      "corr:  no2firstMaxHour  -  o3mean :  -0.2171127675793112\n",
      "corr:  no2firstMaxHour  -  o3firstMax :  -0.08817318483040383\n",
      "corr:  no2firstMaxHour  -  o3firstMaxHour :  -0.06405074529750863\n",
      "corr:  no2firstMaxHour  -  o3aqi :  -0.08690765367133858\n",
      "corr:  no2firstMaxHour  -  comean :  0.010539935338802852\n",
      "corr:  no2firstMaxHour  -  cofirstMax :  -0.00788029640387667\n",
      "corr:  no2firstMaxHour  -  cofirstMaxHour :  0.0959320246227496\n",
      "corr:  no2firstMaxHour  -  coaqi :  -0.009919639109624243\n",
      "corr:  no2firstMaxHour  -  so2mean :  0.005832376390546576\n",
      "corr:  no2firstMaxHour  -  so2firstMax :  -0.002656478446597537\n",
      "corr:  no2firstMaxHour  -  so2firstMaxHour :  0.14056477453584687\n",
      "corr:  no2firstMaxHour  -  so2aqi :  -0.004601963848529456\n",
      "corr:  no2firstMaxHour  -  no2mean :  0.07192939848455282\n",
      "corr:  no2firstMaxHour  -  no2firstMax :  0.07795192902813944\n",
      "corr:  no2firstMaxHour  -  no2aqi :  0.076993933301436\n",
      "corr:  no2aqi  -  o3mean :  -0.1553413114396697\n",
      "corr:  no2aqi  -  o3firstMax :  0.08315957355897158\n",
      "corr:  no2aqi  -  o3firstMaxHour :  0.06595399154783216\n",
      "corr:  no2aqi  -  o3aqi :  0.08743742679746846\n",
      "corr:  no2aqi  -  cofirstMaxHour :  0.19104469133236793\n",
      "corr:  no2aqi  -  so2mean :  0.2140967677177718\n",
      "corr:  no2aqi  -  so2firstMax :  0.29185422259471216\n",
      "corr:  no2aqi  -  so2firstMaxHour :  0.09786466300444621\n",
      "corr:  no2aqi  -  so2aqi :  0.26032657486604793\n",
      "corr:  no2aqi  -  no2firstMaxHour :  0.076993933301436\n"
     ]
    }
   ],
   "source": [
    "for col1 in data.columns:\n",
    "    for col2 in data.columns:\n",
    "        a,b = stats.pearsonr(data[col1],data[col2])\n",
    "        if (abs(a) <0.4):\n",
    "            print(\"corr: \", col1, \" - \", col2, \": \", a)\n",
    "        \n",
    "    "
   ]
  },
  {
   "cell_type": "code",
   "execution_count": 34,
   "metadata": {},
   "outputs": [
    {
     "data": {
      "text/plain": [
       "Index(['o3mean', 'o3firstMax', 'o3firstMaxHour', 'o3aqi', 'comean',\n",
       "       'cofirstMax', 'cofirstMaxHour', 'coaqi', 'so2mean', 'so2firstMax',\n",
       "       'so2firstMaxHour', 'so2aqi', 'no2mean', 'no2firstMax',\n",
       "       'no2firstMaxHour', 'no2aqi'],\n",
       "      dtype='object')"
      ]
     },
     "execution_count": 34,
     "metadata": {},
     "output_type": "execute_result"
    }
   ],
   "source": [
    "data.columns"
   ]
  },
  {
   "cell_type": "code",
   "execution_count": 40,
   "metadata": {},
   "outputs": [],
   "source": [
    "datos = pd.DataFrame({'o3mean':data.o3mean,'comean': data.comean,\n",
    "                      'so2mean':data.so2mean, 'no2mean': data.no2mean})"
   ]
  },
  {
   "cell_type": "code",
   "execution_count": 42,
   "metadata": {},
   "outputs": [
    {
     "data": {
      "text/html": [
       "<div>\n",
       "<style scoped>\n",
       "    .dataframe tbody tr th:only-of-type {\n",
       "        vertical-align: middle;\n",
       "    }\n",
       "\n",
       "    .dataframe tbody tr th {\n",
       "        vertical-align: top;\n",
       "    }\n",
       "\n",
       "    .dataframe thead th {\n",
       "        text-align: right;\n",
       "    }\n",
       "</style>\n",
       "<table border=\"1\" class=\"dataframe\">\n",
       "  <thead>\n",
       "    <tr style=\"text-align: right;\">\n",
       "      <th></th>\n",
       "      <th>o3mean</th>\n",
       "      <th>comean</th>\n",
       "      <th>so2mean</th>\n",
       "      <th>no2mean</th>\n",
       "    </tr>\n",
       "  </thead>\n",
       "  <tbody>\n",
       "    <tr>\n",
       "      <th>0</th>\n",
       "      <td>0.018235</td>\n",
       "      <td>0.387500</td>\n",
       "      <td>0.333333</td>\n",
       "      <td>18.708333</td>\n",
       "    </tr>\n",
       "    <tr>\n",
       "      <th>1</th>\n",
       "      <td>0.028353</td>\n",
       "      <td>0.429167</td>\n",
       "      <td>0.000000</td>\n",
       "      <td>18.583333</td>\n",
       "    </tr>\n",
       "    <tr>\n",
       "      <th>2</th>\n",
       "      <td>0.019353</td>\n",
       "      <td>0.458333</td>\n",
       "      <td>0.000000</td>\n",
       "      <td>24.083333</td>\n",
       "    </tr>\n",
       "    <tr>\n",
       "      <th>3</th>\n",
       "      <td>0.021235</td>\n",
       "      <td>0.508333</td>\n",
       "      <td>0.226087</td>\n",
       "      <td>25.428571</td>\n",
       "    </tr>\n",
       "    <tr>\n",
       "      <th>4</th>\n",
       "      <td>0.040882</td>\n",
       "      <td>0.316667</td>\n",
       "      <td>0.000000</td>\n",
       "      <td>8.666667</td>\n",
       "    </tr>\n",
       "    <tr>\n",
       "      <th>...</th>\n",
       "      <td>...</td>\n",
       "      <td>...</td>\n",
       "      <td>...</td>\n",
       "      <td>...</td>\n",
       "    </tr>\n",
       "    <tr>\n",
       "      <th>306099</th>\n",
       "      <td>0.040588</td>\n",
       "      <td>0.100000</td>\n",
       "      <td>0.409091</td>\n",
       "      <td>1.281818</td>\n",
       "    </tr>\n",
       "    <tr>\n",
       "      <th>306100</th>\n",
       "      <td>0.037882</td>\n",
       "      <td>0.100000</td>\n",
       "      <td>0.325000</td>\n",
       "      <td>1.104167</td>\n",
       "    </tr>\n",
       "    <tr>\n",
       "      <th>306101</th>\n",
       "      <td>0.039765</td>\n",
       "      <td>0.100000</td>\n",
       "      <td>0.326087</td>\n",
       "      <td>1.678261</td>\n",
       "    </tr>\n",
       "    <tr>\n",
       "      <th>306102</th>\n",
       "      <td>0.049176</td>\n",
       "      <td>0.066667</td>\n",
       "      <td>0.317391</td>\n",
       "      <td>2.934783</td>\n",
       "    </tr>\n",
       "    <tr>\n",
       "      <th>306103</th>\n",
       "      <td>0.052333</td>\n",
       "      <td>0.054167</td>\n",
       "      <td>0.366667</td>\n",
       "      <td>2.762500</td>\n",
       "    </tr>\n",
       "  </tbody>\n",
       "</table>\n",
       "<p>306104 rows × 4 columns</p>\n",
       "</div>"
      ],
      "text/plain": [
       "          o3mean    comean   so2mean    no2mean\n",
       "0       0.018235  0.387500  0.333333  18.708333\n",
       "1       0.028353  0.429167  0.000000  18.583333\n",
       "2       0.019353  0.458333  0.000000  24.083333\n",
       "3       0.021235  0.508333  0.226087  25.428571\n",
       "4       0.040882  0.316667  0.000000   8.666667\n",
       "...          ...       ...       ...        ...\n",
       "306099  0.040588  0.100000  0.409091   1.281818\n",
       "306100  0.037882  0.100000  0.325000   1.104167\n",
       "306101  0.039765  0.100000  0.326087   1.678261\n",
       "306102  0.049176  0.066667  0.317391   2.934783\n",
       "306103  0.052333  0.054167  0.366667   2.762500\n",
       "\n",
       "[306104 rows x 4 columns]"
      ]
     },
     "execution_count": 42,
     "metadata": {},
     "output_type": "execute_result"
    }
   ],
   "source": [
    "datos"
   ]
  },
  {
   "cell_type": "code",
   "execution_count": 44,
   "metadata": {},
   "outputs": [
    {
     "data": {
      "text/plain": [
       "<matplotlib.image.AxesImage at 0x1b4c6450208>"
      ]
     },
     "execution_count": 44,
     "metadata": {},
     "output_type": "execute_result"
    },
    {
     "data": {
      "image/png": "[encoded data removed]",
      "text/plain": [
       "<Figure size 288x288 with 1 Axes>"
      ]
     },
     "metadata": {
      "needs_background": "light"
     },
     "output_type": "display_data"
    }
   ],
   "source": [
    "plt.matshow(datos.corr())"
   ]
  },
  {
   "cell_type": "code",
   "execution_count": 45,
   "metadata": {},
   "outputs": [
    {
     "data": {
      "text/plain": [
       "(array([ 2347., 10739., 28935., 48814., 62230., 63373., 51348., 28105.,\n",
       "         9186.,  1027.]),\n",
       " array([0.001412 , 0.0070477, 0.0126834, 0.0183191, 0.0239548, 0.0295905,\n",
       "        0.0352262, 0.0408619, 0.0464976, 0.0521333, 0.057769 ]),\n",
       " <a list of 10 Patch objects>)"
      ]
     },
     "execution_count": 45,
     "metadata": {},
     "output_type": "execute_result"
    },
    {
     "data": {
      "image/png": "[encoded data removed]",
      "text/plain": [
       "<Figure size 432x288 with 1 Axes>"
      ]
     },
     "metadata": {
      "needs_background": "light"
     },
     "output_type": "display_data"
    }
   ],
   "source": [
    "plt.hist(datos.o3mean)"
   ]
  },
  {
   "cell_type": "code",
   "execution_count": 46,
   "metadata": {},
   "outputs": [
    {
     "data": {
      "text/plain": [
       "(array([  441., 17094., 32999., 48328., 91305., 49023., 31558., 17075.,\n",
       "        12022.,  6259.]),\n",
       " array([-0.111111 , -0.0379999,  0.0351112,  0.1082223,  0.1813334,\n",
       "         0.2544445,  0.3275556,  0.4006667,  0.4737778,  0.5468889,\n",
       "         0.62     ]),\n",
       " <a list of 10 Patch objects>)"
      ]
     },
     "execution_count": 46,
     "metadata": {},
     "output_type": "execute_result"
    },
    {
     "data": {
      "image/png": "[encoded data removed]",
      "text/plain": [
       "<Figure size 432x288 with 1 Axes>"
      ]
     },
     "metadata": {
      "needs_background": "light"
     },
     "output_type": "display_data"
    }
   ],
   "source": [
    "plt.hist(datos.comean)"
   ]
  },
  {
   "cell_type": "code",
   "execution_count": 47,
   "metadata": {},
   "outputs": [
    {
     "data": {
      "text/plain": [
       "(array([   156.,    352.,   3792., 114947.,  81203.,  42102.,  33745.,\n",
       "         13969.,  10115.,   5723.]),\n",
       " array([-1.254167 , -0.8864776, -0.5187882, -0.1510988,  0.2165906,\n",
       "         0.58428  ,  0.9519694,  1.3196588,  1.6873482,  2.0550376,\n",
       "         2.422727 ]),\n",
       " <a list of 10 Patch objects>)"
      ]
     },
     "execution_count": 47,
     "metadata": {},
     "output_type": "execute_result"
    },
    {
     "data": {
      "image/png": "[encoded data removed]",
      "text/plain": [
       "<Figure size 432x288 with 1 Axes>"
      ]
     },
     "metadata": {
      "needs_background": "light"
     },
     "output_type": "display_data"
    }
   ],
   "source": [
    "plt.hist(datos.so2mean)"
   ]
  },
  {
   "cell_type": "code",
   "execution_count": 48,
   "metadata": {},
   "outputs": [
    {
     "data": {
      "text/plain": [
       "(array([   81., 29815., 77189., 69676., 48627., 32637., 21416., 13394.,\n",
       "         8375.,  4894.]),\n",
       " array([-4.529167 , -1.4720836,  1.5849998,  4.6420832,  7.6991666,\n",
       "        10.75625  , 13.8133334, 16.8704168, 19.9275002, 22.9845836,\n",
       "        26.041667 ]),\n",
       " <a list of 10 Patch objects>)"
      ]
     },
     "execution_count": 48,
     "metadata": {},
     "output_type": "execute_result"
    },
    {
     "data": {
      "image/png": "[encoded data removed]",
      "text/plain": [
       "<Figure size 432x288 with 1 Axes>"
      ]
     },
     "metadata": {
      "needs_background": "light"
     },
     "output_type": "display_data"
    }
   ],
   "source": [
    "plt.hist(datos.no2mean)"
   ]
  },
  {
   "cell_type": "code",
   "execution_count": 51,
   "metadata": {},
   "outputs": [
    {
     "data": {
      "text/plain": [
       "{'whiskers': [<matplotlib.lines.Line2D at 0x1b4c6158f88>,\n",
       "  <matplotlib.lines.Line2D at 0x1b4c6158208>],\n",
       " 'caps': [<matplotlib.lines.Line2D at 0x1b4c615cdc8>,\n",
       "  <matplotlib.lines.Line2D at 0x1b4c6163408>],\n",
       " 'boxes': [<matplotlib.lines.Line2D at 0x1b4c6155c48>],\n",
       " 'medians': [<matplotlib.lines.Line2D at 0x1b4c616ef08>],\n",
       " 'fliers': [<matplotlib.lines.Line2D at 0x1b4c616edc8>],\n",
       " 'means': []}"
      ]
     },
     "execution_count": 51,
     "metadata": {},
     "output_type": "execute_result"
    },
    {
     "data": {
      "image/png": "[encoded data removed]",
      "text/plain": [
       "<Figure size 432x288 with 1 Axes>"
      ]
     },
     "metadata": {
      "needs_background": "light"
     },
     "output_type": "display_data"
    }
   ],
   "source": [
    "plt.boxplot(datos.o3mean)"
   ]
  },
  {
   "cell_type": "code",
   "execution_count": 52,
   "metadata": {},
   "outputs": [
    {
     "data": {
      "text/plain": [
       "{'whiskers': [<matplotlib.lines.Line2D at 0x1b4c6284888>,\n",
       "  <matplotlib.lines.Line2D at 0x1b4c62adcc8>],\n",
       " 'caps': [<matplotlib.lines.Line2D at 0x1b4c62b5488>,\n",
       "  <matplotlib.lines.Line2D at 0x1b4c62bdf08>],\n",
       " 'boxes': [<matplotlib.lines.Line2D at 0x1b4c62ad548>],\n",
       " 'medians': [<matplotlib.lines.Line2D at 0x1b4c62c1048>],\n",
       " 'fliers': [<matplotlib.lines.Line2D at 0x1b4c62c4748>],\n",
       " 'means': []}"
      ]
     },
     "execution_count": 52,
     "metadata": {},
     "output_type": "execute_result"
    },
    {
     "data": {
      "image/png": "[encoded data removed]",
      "text/plain": [
       "<Figure size 432x288 with 1 Axes>"
      ]
     },
     "metadata": {
      "needs_background": "light"
     },
     "output_type": "display_data"
    }
   ],
   "source": [
    "plt.boxplot(datos.comean)"
   ]
  },
  {
   "cell_type": "code",
   "execution_count": 53,
   "metadata": {},
   "outputs": [
    {
     "data": {
      "text/plain": [
       "{'whiskers': [<matplotlib.lines.Line2D at 0x1b4c62b2408>,\n",
       "  <matplotlib.lines.Line2D at 0x1b4c636dfc8>],\n",
       " 'caps': [<matplotlib.lines.Line2D at 0x1b4c636d7c8>,\n",
       "  <matplotlib.lines.Line2D at 0x1b4c636fe08>],\n",
       " 'boxes': [<matplotlib.lines.Line2D at 0x1b4c6364508>],\n",
       " 'medians': [<matplotlib.lines.Line2D at 0x1b4c6378308>],\n",
       " 'fliers': [<matplotlib.lines.Line2D at 0x1b4c637c508>],\n",
       " 'means': []}"
      ]
     },
     "execution_count": 53,
     "metadata": {},
     "output_type": "execute_result"
    },
    {
     "data": {
      "image/png": "[encoded data removed]",
      "text/plain": [
       "<Figure size 432x288 with 1 Axes>"
      ]
     },
     "metadata": {
      "needs_background": "light"
     },
     "output_type": "display_data"
    }
   ],
   "source": [
    "plt.boxplot(datos.no2mean)"
   ]
  },
  {
   "cell_type": "code",
   "execution_count": 54,
   "metadata": {},
   "outputs": [
    {
     "data": {
      "text/plain": [
       "{'whiskers': [<matplotlib.lines.Line2D at 0x1b4c61d4f88>,\n",
       "  <matplotlib.lines.Line2D at 0x1b4c61d48c8>],\n",
       " 'caps': [<matplotlib.lines.Line2D at 0x1b4c61caec8>,\n",
       "  <matplotlib.lines.Line2D at 0x1b4c61c3f08>],\n",
       " 'boxes': [<matplotlib.lines.Line2D at 0x1b4c61d46c8>],\n",
       " 'medians': [<matplotlib.lines.Line2D at 0x1b4c61c3a48>],\n",
       " 'fliers': [<matplotlib.lines.Line2D at 0x1b4c61b7c48>],\n",
       " 'means': []}"
      ]
     },
     "execution_count": 54,
     "metadata": {},
     "output_type": "execute_result"
    },
    {
     "data": {
      "image/png": "[encoded data removed]",
      "text/plain": [
       "<Figure size 432x288 with 1 Axes>"
      ]
     },
     "metadata": {
      "needs_background": "light"
     },
     "output_type": "display_data"
    }
   ],
   "source": [
    "plt.boxplot(datos.so2mean)"
   ]
  },
  {
   "cell_type": "code",
   "execution_count": 57,
   "metadata": {},
   "outputs": [
    {
     "data": {
      "text/plain": [
       "<matplotlib.collections.PathCollection at 0x1b4d0bd4048>"
      ]
     },
     "execution_count": 57,
     "metadata": {},
     "output_type": "execute_result"
    },
    {
     "data": {
      "image/png": "[encoded data removed]",
      "text/plain": [
       "<Figure size 432x288 with 1 Axes>"
      ]
     },
     "metadata": {
      "needs_background": "light"
     },
     "output_type": "display_data"
    }
   ],
   "source": [
    "plt.scatter(datos.o3mean, datos.so2mean)"
   ]
  },
  {
   "cell_type": "code",
   "execution_count": null,
   "metadata": {},
   "outputs": [],
   "source": []
  }
 ],
 "metadata": {
  "kernelspec": {
   "display_name": "Python 3",
   "language": "python",
   "name": "python3"
  },
  "language_info": {
   "codemirror_mode": {
    "name": "ipython",
    "version": 3
   },
   "file_extension": ".py",
   "mimetype": "text/x-python",
   "name": "python",
   "nbconvert_exporter": "python",
   "pygments_lexer": "ipython3",
   "version": "3.7.6"
  }
 },
 "nbformat": 4,
 "nbformat_minor": 4
}
