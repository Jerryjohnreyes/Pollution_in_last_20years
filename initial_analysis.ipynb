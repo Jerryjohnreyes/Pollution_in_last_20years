{
 "cells": [
  {
   "cell_type": "code",
   "execution_count": 2,
   "metadata": {},
   "outputs": [],
   "source": [
    "import pandas as pd\n",
    "import numpy as np"
   ]
  },
  {
   "cell_type": "code",
   "execution_count": 3,
   "metadata": {},
   "outputs": [],
   "source": [
    "data = pd.read_csv(\"pollution_2000_2021.csv\")"
   ]
  },
  {
   "cell_type": "code",
   "execution_count": 11,
   "metadata": {},
   "outputs": [
    {
     "data": {
      "text/plain": [
       "pandas.core.frame.DataFrame"
      ]
     },
     "execution_count": 11,
     "metadata": {},
     "output_type": "execute_result"
    }
   ],
   "source": [
    "type(data)"
   ]
  },
  {
   "cell_type": "code",
   "execution_count": 18,
   "metadata": {},
   "outputs": [
    {
     "name": "stdout",
     "output_type": "stream",
     "text": [
      "<class 'pandas.core.frame.DataFrame'>\n",
      "RangeIndex: 608699 entries, 0 to 608698\n",
      "Data columns (total 24 columns):\n",
      " #   Column             Non-Null Count   Dtype  \n",
      "---  ------             --------------   -----  \n",
      " 0   Date               608699 non-null  object \n",
      " 1   Year               608699 non-null  int64  \n",
      " 2   Month              608699 non-null  int64  \n",
      " 3   Day                608699 non-null  int64  \n",
      " 4   Address            608699 non-null  object \n",
      " 5   State              608699 non-null  object \n",
      " 6   County             608699 non-null  object \n",
      " 7   City               608699 non-null  object \n",
      " 8   O3 Mean            608699 non-null  float64\n",
      " 9   O3 1st Max Value   608699 non-null  float64\n",
      " 10  O3 1st Max Hour    608699 non-null  int64  \n",
      " 11  O3 AQI             608699 non-null  int64  \n",
      " 12  CO Mean            608699 non-null  float64\n",
      " 13  CO 1st Max Value   608699 non-null  float64\n",
      " 14  CO 1st Max Hour    608699 non-null  int64  \n",
      " 15  CO AQI             608699 non-null  float64\n",
      " 16  SO2 Mean           608699 non-null  float64\n",
      " 17  SO2 1st Max Value  608699 non-null  float64\n",
      " 18  SO2 1st Max Hour   608699 non-null  int64  \n",
      " 19  SO2 AQI            608699 non-null  float64\n",
      " 20  NO2 Mean           608699 non-null  float64\n",
      " 21  NO2 1st Max Value  608699 non-null  float64\n",
      " 22  NO2 1st Max Hour   608699 non-null  int64  \n",
      " 23  NO2 AQI            608699 non-null  int64  \n",
      "dtypes: float64(10), int64(9), object(5)\n",
      "memory usage: 111.5+ MB\n"
     ]
    }
   ],
   "source": [
    "data.info()"
   ]
  },
  {
   "cell_type": "code",
   "execution_count": 21,
   "metadata": {},
   "outputs": [
    {
     "data": {
      "text/plain": [
       "Date                 0\n",
       "Year                 0\n",
       "Month                0\n",
       "Day                  0\n",
       "Address              0\n",
       "State                0\n",
       "County               0\n",
       "City                 0\n",
       "O3 Mean              0\n",
       "O3 1st Max Value     0\n",
       "O3 1st Max Hour      0\n",
       "O3 AQI               0\n",
       "CO Mean              0\n",
       "CO 1st Max Value     0\n",
       "CO 1st Max Hour      0\n",
       "CO AQI               0\n",
       "SO2 Mean             0\n",
       "SO2 1st Max Value    0\n",
       "SO2 1st Max Hour     0\n",
       "SO2 AQI              0\n",
       "NO2 Mean             0\n",
       "NO2 1st Max Value    0\n",
       "NO2 1st Max Hour     0\n",
       "NO2 AQI              0\n",
       "dtype: int64"
      ]
     },
     "execution_count": 21,
     "metadata": {},
     "output_type": "execute_result"
    }
   ],
   "source": [
    "data.isnull().sum()\n",
    "# dataFrame.isnull().sum() this function is going to turn each entry in bool value\n",
    "# and then sum() will make an addition by columns of the null values."
   ]
  },
  {
   "cell_type": "code",
   "execution_count": 26,
   "metadata": {},
   "outputs": [
    {
     "data": {
      "text/plain": [
       "14608776"
      ]
     },
     "execution_count": 26,
     "metadata": {},
     "output_type": "execute_result"
    }
   ],
   "source": [
    "np.product(data.shape)\n",
    "# using numpy, product will multiply the shape of the dataframe\n",
    "# dataFrame.shape will retrieve the dimensions of the matrix."
   ]
  },
  {
   "cell_type": "code",
   "execution_count": 29,
   "metadata": {},
   "outputs": [
    {
     "data": {
      "text/plain": [
       "0.0"
      ]
     },
     "execution_count": 29,
     "metadata": {},
     "output_type": "execute_result"
    }
   ],
   "source": [
    "(data.isnull().sum().sum())/(np.product(data.shape))\n",
    "# this is the ratio of null values from the whole data we got."
   ]
  },
  {
   "cell_type": "code",
   "execution_count": 31,
   "metadata": {},
   "outputs": [
    {
     "data": {
      "text/plain": [
       "24"
      ]
     },
     "execution_count": 31,
     "metadata": {},
     "output_type": "execute_result"
    }
   ],
   "source": [
    "data.shape[1]\n",
    "# shape returns the matrix dimension where the second entry is the columns. rows x columns"
   ]
  },
  {
   "cell_type": "code",
   "execution_count": 33,
   "metadata": {},
   "outputs": [
    {
     "data": {
      "text/plain": [
       "608699"
      ]
     },
     "execution_count": 33,
     "metadata": {},
     "output_type": "execute_result"
    }
   ],
   "source": [
    "data.shape[0]"
   ]
  },
  {
   "cell_type": "code",
   "execution_count": 36,
   "metadata": {},
   "outputs": [
    {
     "data": {
      "text/html": [
       "<div>\n",
       "<style scoped>\n",
       "    .dataframe tbody tr th:only-of-type {\n",
       "        vertical-align: middle;\n",
       "    }\n",
       "\n",
       "    .dataframe tbody tr th {\n",
       "        vertical-align: top;\n",
       "    }\n",
       "\n",
       "    .dataframe thead th {\n",
       "        text-align: right;\n",
       "    }\n",
       "</style>\n",
       "<table border=\"1\" class=\"dataframe\">\n",
       "  <thead>\n",
       "    <tr style=\"text-align: right;\">\n",
       "      <th></th>\n",
       "      <th>Year</th>\n",
       "      <th>Month</th>\n",
       "      <th>Day</th>\n",
       "      <th>O3 Mean</th>\n",
       "      <th>O3 1st Max Value</th>\n",
       "      <th>O3 1st Max Hour</th>\n",
       "      <th>O3 AQI</th>\n",
       "      <th>CO Mean</th>\n",
       "      <th>CO 1st Max Value</th>\n",
       "      <th>CO 1st Max Hour</th>\n",
       "      <th>CO AQI</th>\n",
       "      <th>SO2 Mean</th>\n",
       "      <th>SO2 1st Max Value</th>\n",
       "      <th>SO2 1st Max Hour</th>\n",
       "      <th>SO2 AQI</th>\n",
       "      <th>NO2 Mean</th>\n",
       "      <th>NO2 1st Max Value</th>\n",
       "      <th>NO2 1st Max Hour</th>\n",
       "      <th>NO2 AQI</th>\n",
       "    </tr>\n",
       "  </thead>\n",
       "  <tbody>\n",
       "    <tr>\n",
       "      <th>count</th>\n",
       "      <td>608699.000000</td>\n",
       "      <td>608699.000000</td>\n",
       "      <td>608699.000000</td>\n",
       "      <td>608699.000000</td>\n",
       "      <td>608699.000000</td>\n",
       "      <td>608699.000000</td>\n",
       "      <td>608699.000000</td>\n",
       "      <td>608699.000000</td>\n",
       "      <td>608699.000000</td>\n",
       "      <td>608699.000000</td>\n",
       "      <td>608699.000000</td>\n",
       "      <td>608699.000000</td>\n",
       "      <td>608699.000000</td>\n",
       "      <td>608699.000000</td>\n",
       "      <td>608699.000000</td>\n",
       "      <td>608699.000000</td>\n",
       "      <td>608699.000000</td>\n",
       "      <td>608699.000000</td>\n",
       "      <td>608699.000000</td>\n",
       "    </tr>\n",
       "    <tr>\n",
       "      <th>mean</th>\n",
       "      <td>2011.040529</td>\n",
       "      <td>6.508670</td>\n",
       "      <td>15.737176</td>\n",
       "      <td>0.028477</td>\n",
       "      <td>0.038903</td>\n",
       "      <td>10.773469</td>\n",
       "      <td>39.112517</td>\n",
       "      <td>0.337258</td>\n",
       "      <td>0.476798</td>\n",
       "      <td>5.971042</td>\n",
       "      <td>5.377387</td>\n",
       "      <td>1.523358</td>\n",
       "      <td>4.210271</td>\n",
       "      <td>8.851891</td>\n",
       "      <td>5.568708</td>\n",
       "      <td>11.738067</td>\n",
       "      <td>23.610711</td>\n",
       "      <td>11.606845</td>\n",
       "      <td>22.124240</td>\n",
       "    </tr>\n",
       "    <tr>\n",
       "      <th>std</th>\n",
       "      <td>6.122558</td>\n",
       "      <td>3.310633</td>\n",
       "      <td>8.806949</td>\n",
       "      <td>0.012218</td>\n",
       "      <td>0.015031</td>\n",
       "      <td>3.308152</td>\n",
       "      <td>22.480864</td>\n",
       "      <td>0.282958</td>\n",
       "      <td>0.446321</td>\n",
       "      <td>7.739380</td>\n",
       "      <td>5.142873</td>\n",
       "      <td>2.495094</td>\n",
       "      <td>7.983793</td>\n",
       "      <td>6.774720</td>\n",
       "      <td>10.736164</td>\n",
       "      <td>9.083091</td>\n",
       "      <td>15.412489</td>\n",
       "      <td>7.881014</td>\n",
       "      <td>14.610125</td>\n",
       "    </tr>\n",
       "    <tr>\n",
       "      <th>min</th>\n",
       "      <td>2000.000000</td>\n",
       "      <td>1.000000</td>\n",
       "      <td>1.000000</td>\n",
       "      <td>-0.000706</td>\n",
       "      <td>0.000000</td>\n",
       "      <td>7.000000</td>\n",
       "      <td>0.000000</td>\n",
       "      <td>-0.437500</td>\n",
       "      <td>-0.400000</td>\n",
       "      <td>0.000000</td>\n",
       "      <td>0.000000</td>\n",
       "      <td>-2.508333</td>\n",
       "      <td>-2.300000</td>\n",
       "      <td>0.000000</td>\n",
       "      <td>0.000000</td>\n",
       "      <td>-4.629167</td>\n",
       "      <td>-4.400000</td>\n",
       "      <td>0.000000</td>\n",
       "      <td>0.000000</td>\n",
       "    </tr>\n",
       "    <tr>\n",
       "      <th>25%</th>\n",
       "      <td>2006.000000</td>\n",
       "      <td>4.000000</td>\n",
       "      <td>8.000000</td>\n",
       "      <td>0.019647</td>\n",
       "      <td>0.029000</td>\n",
       "      <td>9.000000</td>\n",
       "      <td>27.000000</td>\n",
       "      <td>0.179167</td>\n",
       "      <td>0.200000</td>\n",
       "      <td>0.000000</td>\n",
       "      <td>2.000000</td>\n",
       "      <td>0.187500</td>\n",
       "      <td>0.600000</td>\n",
       "      <td>3.000000</td>\n",
       "      <td>0.000000</td>\n",
       "      <td>4.978261</td>\n",
       "      <td>11.200000</td>\n",
       "      <td>5.000000</td>\n",
       "      <td>10.000000</td>\n",
       "    </tr>\n",
       "    <tr>\n",
       "      <th>50%</th>\n",
       "      <td>2012.000000</td>\n",
       "      <td>7.000000</td>\n",
       "      <td>16.000000</td>\n",
       "      <td>0.028235</td>\n",
       "      <td>0.038000</td>\n",
       "      <td>10.000000</td>\n",
       "      <td>35.000000</td>\n",
       "      <td>0.262500</td>\n",
       "      <td>0.400000</td>\n",
       "      <td>2.000000</td>\n",
       "      <td>5.000000</td>\n",
       "      <td>0.666667</td>\n",
       "      <td>1.700000</td>\n",
       "      <td>8.000000</td>\n",
       "      <td>1.000000</td>\n",
       "      <td>9.541667</td>\n",
       "      <td>21.800000</td>\n",
       "      <td>9.000000</td>\n",
       "      <td>20.000000</td>\n",
       "    </tr>\n",
       "    <tr>\n",
       "      <th>75%</th>\n",
       "      <td>2016.000000</td>\n",
       "      <td>9.000000</td>\n",
       "      <td>23.000000</td>\n",
       "      <td>0.036765</td>\n",
       "      <td>0.048000</td>\n",
       "      <td>11.000000</td>\n",
       "      <td>44.000000</td>\n",
       "      <td>0.420833</td>\n",
       "      <td>0.600000</td>\n",
       "      <td>9.000000</td>\n",
       "      <td>7.000000</td>\n",
       "      <td>1.772727</td>\n",
       "      <td>4.000000</td>\n",
       "      <td>13.000000</td>\n",
       "      <td>6.000000</td>\n",
       "      <td>16.304348</td>\n",
       "      <td>33.700000</td>\n",
       "      <td>20.000000</td>\n",
       "      <td>31.000000</td>\n",
       "    </tr>\n",
       "    <tr>\n",
       "      <th>max</th>\n",
       "      <td>2021.000000</td>\n",
       "      <td>12.000000</td>\n",
       "      <td>31.000000</td>\n",
       "      <td>0.107353</td>\n",
       "      <td>0.140000</td>\n",
       "      <td>23.000000</td>\n",
       "      <td>237.000000</td>\n",
       "      <td>7.508333</td>\n",
       "      <td>15.500000</td>\n",
       "      <td>23.000000</td>\n",
       "      <td>201.000000</td>\n",
       "      <td>321.625000</td>\n",
       "      <td>351.000000</td>\n",
       "      <td>23.000000</td>\n",
       "      <td>200.000000</td>\n",
       "      <td>140.650000</td>\n",
       "      <td>269.200000</td>\n",
       "      <td>23.000000</td>\n",
       "      <td>133.000000</td>\n",
       "    </tr>\n",
       "  </tbody>\n",
       "</table>\n",
       "</div>"
      ],
      "text/plain": [
       "                Year          Month            Day        O3 Mean  \\\n",
       "count  608699.000000  608699.000000  608699.000000  608699.000000   \n",
       "mean     2011.040529       6.508670      15.737176       0.028477   \n",
       "std         6.122558       3.310633       8.806949       0.012218   \n",
       "min      2000.000000       1.000000       1.000000      -0.000706   \n",
       "25%      2006.000000       4.000000       8.000000       0.019647   \n",
       "50%      2012.000000       7.000000      16.000000       0.028235   \n",
       "75%      2016.000000       9.000000      23.000000       0.036765   \n",
       "max      2021.000000      12.000000      31.000000       0.107353   \n",
       "\n",
       "       O3 1st Max Value  O3 1st Max Hour         O3 AQI        CO Mean  \\\n",
       "count     608699.000000    608699.000000  608699.000000  608699.000000   \n",
       "mean           0.038903        10.773469      39.112517       0.337258   \n",
       "std            0.015031         3.308152      22.480864       0.282958   \n",
       "min            0.000000         7.000000       0.000000      -0.437500   \n",
       "25%            0.029000         9.000000      27.000000       0.179167   \n",
       "50%            0.038000        10.000000      35.000000       0.262500   \n",
       "75%            0.048000        11.000000      44.000000       0.420833   \n",
       "max            0.140000        23.000000     237.000000       7.508333   \n",
       "\n",
       "       CO 1st Max Value  CO 1st Max Hour         CO AQI       SO2 Mean  \\\n",
       "count     608699.000000    608699.000000  608699.000000  608699.000000   \n",
       "mean           0.476798         5.971042       5.377387       1.523358   \n",
       "std            0.446321         7.739380       5.142873       2.495094   \n",
       "min           -0.400000         0.000000       0.000000      -2.508333   \n",
       "25%            0.200000         0.000000       2.000000       0.187500   \n",
       "50%            0.400000         2.000000       5.000000       0.666667   \n",
       "75%            0.600000         9.000000       7.000000       1.772727   \n",
       "max           15.500000        23.000000     201.000000     321.625000   \n",
       "\n",
       "       SO2 1st Max Value  SO2 1st Max Hour        SO2 AQI       NO2 Mean  \\\n",
       "count      608699.000000     608699.000000  608699.000000  608699.000000   \n",
       "mean            4.210271          8.851891       5.568708      11.738067   \n",
       "std             7.983793          6.774720      10.736164       9.083091   \n",
       "min            -2.300000          0.000000       0.000000      -4.629167   \n",
       "25%             0.600000          3.000000       0.000000       4.978261   \n",
       "50%             1.700000          8.000000       1.000000       9.541667   \n",
       "75%             4.000000         13.000000       6.000000      16.304348   \n",
       "max           351.000000         23.000000     200.000000     140.650000   \n",
       "\n",
       "       NO2 1st Max Value  NO2 1st Max Hour        NO2 AQI  \n",
       "count      608699.000000     608699.000000  608699.000000  \n",
       "mean           23.610711         11.606845      22.124240  \n",
       "std            15.412489          7.881014      14.610125  \n",
       "min            -4.400000          0.000000       0.000000  \n",
       "25%            11.200000          5.000000      10.000000  \n",
       "50%            21.800000          9.000000      20.000000  \n",
       "75%            33.700000         20.000000      31.000000  \n",
       "max           269.200000         23.000000     133.000000  "
      ]
     },
     "execution_count": 36,
     "metadata": {},
     "output_type": "execute_result"
    }
   ],
   "source": [
    "data.describe()"
   ]
  },
  {
   "cell_type": "code",
   "execution_count": 48,
   "metadata": {},
   "outputs": [],
   "source": [
    "data = data.rename(columns = {\"O3 Mean\":\"o3_mean\", \"O3 1st Max Value\":\"o3_firstmaxvalue\"})"
   ]
  },
  {
   "cell_type": "code",
   "execution_count": 49,
   "metadata": {},
   "outputs": [],
   "source": [
    "import matplotlib.pyplot as plt"
   ]
  },
  {
   "cell_type": "code",
   "execution_count": 50,
   "metadata": {},
   "outputs": [
    {
     "data": {
      "text/html": [
       "<div>\n",
       "<style scoped>\n",
       "    .dataframe tbody tr th:only-of-type {\n",
       "        vertical-align: middle;\n",
       "    }\n",
       "\n",
       "    .dataframe tbody tr th {\n",
       "        vertical-align: top;\n",
       "    }\n",
       "\n",
       "    .dataframe thead th {\n",
       "        text-align: right;\n",
       "    }\n",
       "</style>\n",
       "<table border=\"1\" class=\"dataframe\">\n",
       "  <thead>\n",
       "    <tr style=\"text-align: right;\">\n",
       "      <th></th>\n",
       "      <th>Date</th>\n",
       "      <th>Year</th>\n",
       "      <th>Month</th>\n",
       "      <th>Day</th>\n",
       "      <th>Address</th>\n",
       "      <th>State</th>\n",
       "      <th>County</th>\n",
       "      <th>City</th>\n",
       "      <th>o3_mean</th>\n",
       "      <th>o3_firstmaxvalue</th>\n",
       "      <th>...</th>\n",
       "      <th>CO 1st Max Hour</th>\n",
       "      <th>CO AQI</th>\n",
       "      <th>SO2 Mean</th>\n",
       "      <th>SO2 1st Max Value</th>\n",
       "      <th>SO2 1st Max Hour</th>\n",
       "      <th>SO2 AQI</th>\n",
       "      <th>NO2 Mean</th>\n",
       "      <th>NO2 1st Max Value</th>\n",
       "      <th>NO2 1st Max Hour</th>\n",
       "      <th>NO2 AQI</th>\n",
       "    </tr>\n",
       "  </thead>\n",
       "  <tbody>\n",
       "    <tr>\n",
       "      <th>0</th>\n",
       "      <td>2000-01-01</td>\n",
       "      <td>2000</td>\n",
       "      <td>1</td>\n",
       "      <td>1</td>\n",
       "      <td>1645 E ROOSEVELT ST-CENTRAL PHOENIX STN</td>\n",
       "      <td>Arizona</td>\n",
       "      <td>Maricopa</td>\n",
       "      <td>Phoenix</td>\n",
       "      <td>0.019765</td>\n",
       "      <td>0.040</td>\n",
       "      <td>...</td>\n",
       "      <td>23</td>\n",
       "      <td>25.0</td>\n",
       "      <td>3.000000</td>\n",
       "      <td>9.0</td>\n",
       "      <td>21</td>\n",
       "      <td>13.0</td>\n",
       "      <td>19.041667</td>\n",
       "      <td>49.0</td>\n",
       "      <td>19</td>\n",
       "      <td>46</td>\n",
       "    </tr>\n",
       "    <tr>\n",
       "      <th>1</th>\n",
       "      <td>2000-01-02</td>\n",
       "      <td>2000</td>\n",
       "      <td>1</td>\n",
       "      <td>2</td>\n",
       "      <td>1645 E ROOSEVELT ST-CENTRAL PHOENIX STN</td>\n",
       "      <td>Arizona</td>\n",
       "      <td>Maricopa</td>\n",
       "      <td>Phoenix</td>\n",
       "      <td>0.015882</td>\n",
       "      <td>0.032</td>\n",
       "      <td>...</td>\n",
       "      <td>0</td>\n",
       "      <td>26.0</td>\n",
       "      <td>1.958333</td>\n",
       "      <td>3.0</td>\n",
       "      <td>22</td>\n",
       "      <td>4.0</td>\n",
       "      <td>22.958333</td>\n",
       "      <td>36.0</td>\n",
       "      <td>19</td>\n",
       "      <td>34</td>\n",
       "    </tr>\n",
       "    <tr>\n",
       "      <th>2</th>\n",
       "      <td>2000-01-03</td>\n",
       "      <td>2000</td>\n",
       "      <td>1</td>\n",
       "      <td>3</td>\n",
       "      <td>1645 E ROOSEVELT ST-CENTRAL PHOENIX STN</td>\n",
       "      <td>Arizona</td>\n",
       "      <td>Maricopa</td>\n",
       "      <td>Phoenix</td>\n",
       "      <td>0.009353</td>\n",
       "      <td>0.016</td>\n",
       "      <td>...</td>\n",
       "      <td>8</td>\n",
       "      <td>28.0</td>\n",
       "      <td>5.250000</td>\n",
       "      <td>11.0</td>\n",
       "      <td>19</td>\n",
       "      <td>16.0</td>\n",
       "      <td>38.125000</td>\n",
       "      <td>51.0</td>\n",
       "      <td>8</td>\n",
       "      <td>48</td>\n",
       "    </tr>\n",
       "    <tr>\n",
       "      <th>3</th>\n",
       "      <td>2000-01-04</td>\n",
       "      <td>2000</td>\n",
       "      <td>1</td>\n",
       "      <td>4</td>\n",
       "      <td>1645 E ROOSEVELT ST-CENTRAL PHOENIX STN</td>\n",
       "      <td>Arizona</td>\n",
       "      <td>Maricopa</td>\n",
       "      <td>Phoenix</td>\n",
       "      <td>0.015882</td>\n",
       "      <td>0.033</td>\n",
       "      <td>...</td>\n",
       "      <td>23</td>\n",
       "      <td>34.0</td>\n",
       "      <td>7.083333</td>\n",
       "      <td>16.0</td>\n",
       "      <td>8</td>\n",
       "      <td>23.0</td>\n",
       "      <td>40.260870</td>\n",
       "      <td>74.0</td>\n",
       "      <td>8</td>\n",
       "      <td>72</td>\n",
       "    </tr>\n",
       "    <tr>\n",
       "      <th>4</th>\n",
       "      <td>2000-01-05</td>\n",
       "      <td>2000</td>\n",
       "      <td>1</td>\n",
       "      <td>5</td>\n",
       "      <td>1645 E ROOSEVELT ST-CENTRAL PHOENIX STN</td>\n",
       "      <td>Arizona</td>\n",
       "      <td>Maricopa</td>\n",
       "      <td>Phoenix</td>\n",
       "      <td>0.007353</td>\n",
       "      <td>0.012</td>\n",
       "      <td>...</td>\n",
       "      <td>2</td>\n",
       "      <td>42.0</td>\n",
       "      <td>8.708333</td>\n",
       "      <td>15.0</td>\n",
       "      <td>7</td>\n",
       "      <td>21.0</td>\n",
       "      <td>48.450000</td>\n",
       "      <td>61.0</td>\n",
       "      <td>22</td>\n",
       "      <td>58</td>\n",
       "    </tr>\n",
       "    <tr>\n",
       "      <th>...</th>\n",
       "      <td>...</td>\n",
       "      <td>...</td>\n",
       "      <td>...</td>\n",
       "      <td>...</td>\n",
       "      <td>...</td>\n",
       "      <td>...</td>\n",
       "      <td>...</td>\n",
       "      <td>...</td>\n",
       "      <td>...</td>\n",
       "      <td>...</td>\n",
       "      <td>...</td>\n",
       "      <td>...</td>\n",
       "      <td>...</td>\n",
       "      <td>...</td>\n",
       "      <td>...</td>\n",
       "      <td>...</td>\n",
       "      <td>...</td>\n",
       "      <td>...</td>\n",
       "      <td>...</td>\n",
       "      <td>...</td>\n",
       "      <td>...</td>\n",
       "    </tr>\n",
       "    <tr>\n",
       "      <th>608694</th>\n",
       "      <td>2021-06-26</td>\n",
       "      <td>2021</td>\n",
       "      <td>6</td>\n",
       "      <td>26</td>\n",
       "      <td>NCore - North Cheyenne Soccer Complex</td>\n",
       "      <td>Wyoming</td>\n",
       "      <td>Laramie</td>\n",
       "      <td>Not in a city</td>\n",
       "      <td>0.040588</td>\n",
       "      <td>0.049</td>\n",
       "      <td>...</td>\n",
       "      <td>0</td>\n",
       "      <td>1.0</td>\n",
       "      <td>0.409091</td>\n",
       "      <td>0.7</td>\n",
       "      <td>2</td>\n",
       "      <td>0.0</td>\n",
       "      <td>1.281818</td>\n",
       "      <td>2.1</td>\n",
       "      <td>0</td>\n",
       "      <td>2</td>\n",
       "    </tr>\n",
       "    <tr>\n",
       "      <th>608695</th>\n",
       "      <td>2021-06-27</td>\n",
       "      <td>2021</td>\n",
       "      <td>6</td>\n",
       "      <td>27</td>\n",
       "      <td>NCore - North Cheyenne Soccer Complex</td>\n",
       "      <td>Wyoming</td>\n",
       "      <td>Laramie</td>\n",
       "      <td>Not in a city</td>\n",
       "      <td>0.037882</td>\n",
       "      <td>0.042</td>\n",
       "      <td>...</td>\n",
       "      <td>0</td>\n",
       "      <td>1.0</td>\n",
       "      <td>0.325000</td>\n",
       "      <td>0.4</td>\n",
       "      <td>4</td>\n",
       "      <td>0.0</td>\n",
       "      <td>1.104167</td>\n",
       "      <td>2.3</td>\n",
       "      <td>20</td>\n",
       "      <td>2</td>\n",
       "    </tr>\n",
       "    <tr>\n",
       "      <th>608696</th>\n",
       "      <td>2021-06-28</td>\n",
       "      <td>2021</td>\n",
       "      <td>6</td>\n",
       "      <td>28</td>\n",
       "      <td>NCore - North Cheyenne Soccer Complex</td>\n",
       "      <td>Wyoming</td>\n",
       "      <td>Laramie</td>\n",
       "      <td>Not in a city</td>\n",
       "      <td>0.039765</td>\n",
       "      <td>0.050</td>\n",
       "      <td>...</td>\n",
       "      <td>0</td>\n",
       "      <td>1.0</td>\n",
       "      <td>0.326087</td>\n",
       "      <td>0.5</td>\n",
       "      <td>2</td>\n",
       "      <td>0.0</td>\n",
       "      <td>1.678261</td>\n",
       "      <td>5.8</td>\n",
       "      <td>23</td>\n",
       "      <td>5</td>\n",
       "    </tr>\n",
       "    <tr>\n",
       "      <th>608697</th>\n",
       "      <td>2021-06-29</td>\n",
       "      <td>2021</td>\n",
       "      <td>6</td>\n",
       "      <td>29</td>\n",
       "      <td>NCore - North Cheyenne Soccer Complex</td>\n",
       "      <td>Wyoming</td>\n",
       "      <td>Laramie</td>\n",
       "      <td>Not in a city</td>\n",
       "      <td>0.049176</td>\n",
       "      <td>0.058</td>\n",
       "      <td>...</td>\n",
       "      <td>0</td>\n",
       "      <td>1.0</td>\n",
       "      <td>0.317391</td>\n",
       "      <td>0.5</td>\n",
       "      <td>20</td>\n",
       "      <td>0.0</td>\n",
       "      <td>2.934783</td>\n",
       "      <td>7.4</td>\n",
       "      <td>0</td>\n",
       "      <td>7</td>\n",
       "    </tr>\n",
       "    <tr>\n",
       "      <th>608698</th>\n",
       "      <td>2021-06-30</td>\n",
       "      <td>2021</td>\n",
       "      <td>6</td>\n",
       "      <td>30</td>\n",
       "      <td>NCore - North Cheyenne Soccer Complex</td>\n",
       "      <td>Wyoming</td>\n",
       "      <td>Laramie</td>\n",
       "      <td>Not in a city</td>\n",
       "      <td>0.052333</td>\n",
       "      <td>0.054</td>\n",
       "      <td>...</td>\n",
       "      <td>0</td>\n",
       "      <td>1.0</td>\n",
       "      <td>0.366667</td>\n",
       "      <td>0.5</td>\n",
       "      <td>3</td>\n",
       "      <td>0.0</td>\n",
       "      <td>2.762500</td>\n",
       "      <td>7.5</td>\n",
       "      <td>5</td>\n",
       "      <td>7</td>\n",
       "    </tr>\n",
       "  </tbody>\n",
       "</table>\n",
       "<p>608699 rows × 24 columns</p>\n",
       "</div>"
      ],
      "text/plain": [
       "              Date  Year  Month  Day                                  Address  \\\n",
       "0       2000-01-01  2000      1    1  1645 E ROOSEVELT ST-CENTRAL PHOENIX STN   \n",
       "1       2000-01-02  2000      1    2  1645 E ROOSEVELT ST-CENTRAL PHOENIX STN   \n",
       "2       2000-01-03  2000      1    3  1645 E ROOSEVELT ST-CENTRAL PHOENIX STN   \n",
       "3       2000-01-04  2000      1    4  1645 E ROOSEVELT ST-CENTRAL PHOENIX STN   \n",
       "4       2000-01-05  2000      1    5  1645 E ROOSEVELT ST-CENTRAL PHOENIX STN   \n",
       "...            ...   ...    ...  ...                                      ...   \n",
       "608694  2021-06-26  2021      6   26    NCore - North Cheyenne Soccer Complex   \n",
       "608695  2021-06-27  2021      6   27    NCore - North Cheyenne Soccer Complex   \n",
       "608696  2021-06-28  2021      6   28    NCore - North Cheyenne Soccer Complex   \n",
       "608697  2021-06-29  2021      6   29    NCore - North Cheyenne Soccer Complex   \n",
       "608698  2021-06-30  2021      6   30    NCore - North Cheyenne Soccer Complex   \n",
       "\n",
       "          State    County           City   o3_mean  o3_firstmaxvalue  ...  \\\n",
       "0       Arizona  Maricopa        Phoenix  0.019765             0.040  ...   \n",
       "1       Arizona  Maricopa        Phoenix  0.015882             0.032  ...   \n",
       "2       Arizona  Maricopa        Phoenix  0.009353             0.016  ...   \n",
       "3       Arizona  Maricopa        Phoenix  0.015882             0.033  ...   \n",
       "4       Arizona  Maricopa        Phoenix  0.007353             0.012  ...   \n",
       "...         ...       ...            ...       ...               ...  ...   \n",
       "608694  Wyoming   Laramie  Not in a city  0.040588             0.049  ...   \n",
       "608695  Wyoming   Laramie  Not in a city  0.037882             0.042  ...   \n",
       "608696  Wyoming   Laramie  Not in a city  0.039765             0.050  ...   \n",
       "608697  Wyoming   Laramie  Not in a city  0.049176             0.058  ...   \n",
       "608698  Wyoming   Laramie  Not in a city  0.052333             0.054  ...   \n",
       "\n",
       "        CO 1st Max Hour  CO AQI  SO2 Mean  SO2 1st Max Value  \\\n",
       "0                    23    25.0  3.000000                9.0   \n",
       "1                     0    26.0  1.958333                3.0   \n",
       "2                     8    28.0  5.250000               11.0   \n",
       "3                    23    34.0  7.083333               16.0   \n",
       "4                     2    42.0  8.708333               15.0   \n",
       "...                 ...     ...       ...                ...   \n",
       "608694                0     1.0  0.409091                0.7   \n",
       "608695                0     1.0  0.325000                0.4   \n",
       "608696                0     1.0  0.326087                0.5   \n",
       "608697                0     1.0  0.317391                0.5   \n",
       "608698                0     1.0  0.366667                0.5   \n",
       "\n",
       "        SO2 1st Max Hour  SO2 AQI   NO2 Mean  NO2 1st Max Value  \\\n",
       "0                     21     13.0  19.041667               49.0   \n",
       "1                     22      4.0  22.958333               36.0   \n",
       "2                     19     16.0  38.125000               51.0   \n",
       "3                      8     23.0  40.260870               74.0   \n",
       "4                      7     21.0  48.450000               61.0   \n",
       "...                  ...      ...        ...                ...   \n",
       "608694                 2      0.0   1.281818                2.1   \n",
       "608695                 4      0.0   1.104167                2.3   \n",
       "608696                 2      0.0   1.678261                5.8   \n",
       "608697                20      0.0   2.934783                7.4   \n",
       "608698                 3      0.0   2.762500                7.5   \n",
       "\n",
       "        NO2 1st Max Hour  NO2 AQI  \n",
       "0                     19       46  \n",
       "1                     19       34  \n",
       "2                      8       48  \n",
       "3                      8       72  \n",
       "4                     22       58  \n",
       "...                  ...      ...  \n",
       "608694                 0        2  \n",
       "608695                20        2  \n",
       "608696                23        5  \n",
       "608697                 0        7  \n",
       "608698                 5        7  \n",
       "\n",
       "[608699 rows x 24 columns]"
      ]
     },
     "execution_count": 50,
     "metadata": {},
     "output_type": "execute_result"
    }
   ],
   "source": [
    "data"
   ]
  },
  {
   "cell_type": "code",
   "execution_count": null,
   "metadata": {},
   "outputs": [],
   "source": []
  },
  {
   "cell_type": "code",
   "execution_count": 53,
   "metadata": {},
   "outputs": [
    {
     "data": {
      "text/plain": [
       "(array([3.83670e+04, 1.33826e+05, 1.98327e+05, 1.60667e+05, 6.26450e+04,\n",
       "        1.28280e+04, 1.77400e+03, 2.24000e+02, 3.70000e+01, 4.00000e+00]),\n",
       " array([-0.000706 ,  0.0100999,  0.0209058,  0.0317117,  0.0425176,\n",
       "         0.0533235,  0.0641294,  0.0749353,  0.0857412,  0.0965471,\n",
       "         0.107353 ]),\n",
       " <a list of 10 Patch objects>)"
      ]
     },
     "execution_count": 53,
     "metadata": {},
     "output_type": "execute_result"
    },
    {
     "data": {
      "image/png": "[encoded data removed]",
      "text/plain": [
       "<Figure size 432x288 with 1 Axes>"
      ]
     },
     "metadata": {
      "needs_background": "light"
     },
     "output_type": "display_data"
    }
   ],
   "source": [
    "plt.hist(data['o3_mean'])"
   ]
  },
  {
   "cell_type": "code",
   "execution_count": null,
   "metadata": {},
   "outputs": [],
   "source": []
  },
  {
   "cell_type": "code",
   "execution_count": null,
   "metadata": {},
   "outputs": [],
   "source": []
  },
  {
   "cell_type": "code",
   "execution_count": 1,
   "metadata": {},
   "outputs": [],
   "source": [
    "import matplotlib.pyplot as plt"
   ]
  },
  {
   "cell_type": "code",
   "execution_count": 4,
   "metadata": {},
   "outputs": [
    {
     "data": {
      "image/png": "[encoded data removed]",
      "text/plain": [
       "<Figure size 288x288 with 1 Axes>"
      ]
     },
     "metadata": {
      "needs_background": "light"
     },
     "output_type": "display_data"
    }
   ],
   "source": [
    "plt.matshow(data.corr())\n",
    "plt.show()"
   ]
  },
  {
   "cell_type": "code",
   "execution_count": 6,
   "metadata": {},
   "outputs": [
    {
     "data": {
      "image/png": "[encoded data removed]",
      "text/plain": [
       "<Figure size 432x288 with 1 Axes>"
      ]
     },
     "metadata": {
      "needs_background": "light"
     },
     "output_type": "display_data"
    }
   ],
   "source": [
    "plt.scatter(data[\"CO Mean\"], data[\"O3 Mean\"])\n",
    "plt.show()"
   ]
  },
  {
   "cell_type": "code",
   "execution_count": 7,
   "metadata": {},
   "outputs": [
    {
     "name": "stdout",
     "output_type": "stream",
     "text": [
      "<class 'pandas.core.frame.DataFrame'>\n",
      "RangeIndex: 608699 entries, 0 to 608698\n",
      "Data columns (total 24 columns):\n",
      " #   Column             Non-Null Count   Dtype  \n",
      "---  ------             --------------   -----  \n",
      " 0   Date               608699 non-null  object \n",
      " 1   Year               608699 non-null  int64  \n",
      " 2   Month              608699 non-null  int64  \n",
      " 3   Day                608699 non-null  int64  \n",
      " 4   Address            608699 non-null  object \n",
      " 5   State              608699 non-null  object \n",
      " 6   County             608699 non-null  object \n",
      " 7   City               608699 non-null  object \n",
      " 8   O3 Mean            608699 non-null  float64\n",
      " 9   O3 1st Max Value   608699 non-null  float64\n",
      " 10  O3 1st Max Hour    608699 non-null  int64  \n",
      " 11  O3 AQI             608699 non-null  int64  \n",
      " 12  CO Mean            608699 non-null  float64\n",
      " 13  CO 1st Max Value   608699 non-null  float64\n",
      " 14  CO 1st Max Hour    608699 non-null  int64  \n",
      " 15  CO AQI             608699 non-null  float64\n",
      " 16  SO2 Mean           608699 non-null  float64\n",
      " 17  SO2 1st Max Value  608699 non-null  float64\n",
      " 18  SO2 1st Max Hour   608699 non-null  int64  \n",
      " 19  SO2 AQI            608699 non-null  float64\n",
      " 20  NO2 Mean           608699 non-null  float64\n",
      " 21  NO2 1st Max Value  608699 non-null  float64\n",
      " 22  NO2 1st Max Hour   608699 non-null  int64  \n",
      " 23  NO2 AQI            608699 non-null  int64  \n",
      "dtypes: float64(10), int64(9), object(5)\n",
      "memory usage: 111.5+ MB\n"
     ]
    }
   ],
   "source": [
    "data.info()"
   ]
  },
  {
   "cell_type": "code",
   "execution_count": 8,
   "metadata": {},
   "outputs": [
    {
     "data": {
      "text/plain": [
       "<matplotlib.collections.PathCollection at 0x2592e747c08>"
      ]
     },
     "execution_count": 8,
     "metadata": {},
     "output_type": "execute_result"
    },
    {
     "data": {
      "image/png": "[encoded data removed]",
      "text/plain": [
       "<Figure size 432x288 with 1 Axes>"
      ]
     },
     "metadata": {
      "needs_background": "light"
     },
     "output_type": "display_data"
    }
   ],
   "source": [
    "plt.scatter(data[\"O3 Mean\"],data[\"O3 1st Max Value\"])"
   ]
  },
  {
   "cell_type": "code",
   "execution_count": 9,
   "metadata": {},
   "outputs": [
    {
     "data": {
      "image/png": "[encoded data removed]",
      "text/plain": [
       "<Figure size 432x288 with 1 Axes>"
      ]
     },
     "metadata": {
      "needs_background": "light"
     },
     "output_type": "display_data"
    }
   ],
   "source": [
    "plt.scatter(data[\"SO2 Mean\"], data[\"O3 Mean\"])\n",
    "plt.show()"
   ]
  },
  {
   "cell_type": "code",
   "execution_count": 10,
   "metadata": {},
   "outputs": [
    {
     "data": {
      "image/png": "[encoded data removed]",
      "text/plain": [
       "<Figure size 432x288 with 1 Axes>"
      ]
     },
     "metadata": {
      "needs_background": "light"
     },
     "output_type": "display_data"
    }
   ],
   "source": [
    "plt.scatter( data[\"O3 Mean\"], data[\"SO2 Mean\"])\n",
    "plt.show()"
   ]
  },
  {
   "cell_type": "code",
   "execution_count": 11,
   "metadata": {},
   "outputs": [
    {
     "data": {
      "text/plain": [
       "{'whiskers': [<matplotlib.lines.Line2D at 0x2592dc8e588>,\n",
       "  <matplotlib.lines.Line2D at 0x2592dc3c588>],\n",
       " 'caps': [<matplotlib.lines.Line2D at 0x2592dc3c4c8>,\n",
       "  <matplotlib.lines.Line2D at 0x2592dc2bdc8>],\n",
       " 'boxes': [<matplotlib.lines.Line2D at 0x2592dc47488>],\n",
       " 'medians': [<matplotlib.lines.Line2D at 0x2592dc51f08>],\n",
       " 'fliers': [<matplotlib.lines.Line2D at 0x2592dc51e08>],\n",
       " 'means': []}"
      ]
     },
     "execution_count": 11,
     "metadata": {},
     "output_type": "execute_result"
    },
    {
     "data": {
      "image/png": "[encoded data removed]",
      "text/plain": [
       "<Figure size 432x288 with 1 Axes>"
      ]
     },
     "metadata": {
      "needs_background": "light"
     },
     "output_type": "display_data"
    }
   ],
   "source": [
    "plt.boxplot(data[\"SO2 Mean\"])"
   ]
  },
  {
   "cell_type": "code",
   "execution_count": 17,
   "metadata": {},
   "outputs": [
    {
     "data": {
      "text/plain": [
       "1.5233581277903627"
      ]
     },
     "execution_count": 17,
     "metadata": {},
     "output_type": "execute_result"
    }
   ],
   "source": [
    "data[\"SO2 Mean\"].mean()"
   ]
  },
  {
   "cell_type": "code",
   "execution_count": 22,
   "metadata": {},
   "outputs": [
    {
     "data": {
      "text/plain": [
       "0.666667"
      ]
     },
     "execution_count": 22,
     "metadata": {},
     "output_type": "execute_result"
    }
   ],
   "source": [
    "data[\"SO2 Mean\"].median()"
   ]
  },
  {
   "cell_type": "code",
   "execution_count": 23,
   "metadata": {},
   "outputs": [
    {
     "data": {
      "text/plain": [
       "(array([6.08563e+05, 1.34000e+02, 1.00000e+00, 0.00000e+00, 0.00000e+00,\n",
       "        0.00000e+00, 0.00000e+00, 0.00000e+00, 0.00000e+00, 1.00000e+00]),\n",
       " array([ -2.508333 ,  29.9050003,  62.3183336,  94.7316669, 127.1450002,\n",
       "        159.5583335, 191.9716668, 224.3850001, 256.7983334, 289.2116667,\n",
       "        321.625    ]),\n",
       " <a list of 10 Patch objects>)"
      ]
     },
     "execution_count": 23,
     "metadata": {},
     "output_type": "execute_result"
    },
    {
     "data": {
      "image/png": "[encoded data removed]",
      "text/plain": [
       "<Figure size 432x288 with 1 Axes>"
      ]
     },
     "metadata": {
      "needs_background": "light"
     },
     "output_type": "display_data"
    }
   ],
   "source": [
    "plt.hist(data[\"SO2 Mean\"])"
   ]
  },
  {
   "cell_type": "code",
   "execution_count": 27,
   "metadata": {},
   "outputs": [
    {
     "data": {
      "text/plain": [
       "0         False\n",
       "1         False\n",
       "2         False\n",
       "3         False\n",
       "4         False\n",
       "          ...  \n",
       "608694    False\n",
       "608695    False\n",
       "608696    False\n",
       "608697    False\n",
       "608698    False\n",
       "Name: SO2 Mean, Length: 608699, dtype: bool"
      ]
     },
     "execution_count": 27,
     "metadata": {},
     "output_type": "execute_result"
    }
   ],
   "source": [
    "data[\"SO2 Mean\"] > 300"
   ]
  },
  {
   "cell_type": "code",
   "execution_count": null,
   "metadata": {},
   "outputs": [],
   "source": []
  },
  {
   "cell_type": "code",
   "execution_count": 28,
   "metadata": {},
   "outputs": [],
   "source": [
    "import numpy as np"
   ]
  },
  {
   "cell_type": "code",
   "execution_count": 29,
   "metadata": {},
   "outputs": [],
   "source": [
    "data.loc[data[\"SO2 Mean\"]>300] = np.nan"
   ]
  },
  {
   "cell_type": "code",
   "execution_count": 31,
   "metadata": {},
   "outputs": [
    {
     "data": {
      "text/plain": [
       "0         3.000000\n",
       "1         1.958333\n",
       "2         5.250000\n",
       "3         7.083333\n",
       "4         8.708333\n",
       "            ...   \n",
       "608694    0.409091\n",
       "608695    0.325000\n",
       "608696    0.326087\n",
       "608697    0.317391\n",
       "608698    0.366667\n",
       "Name: SO2 Mean, Length: 608698, dtype: float64"
      ]
     },
     "execution_count": 31,
     "metadata": {},
     "output_type": "execute_result"
    }
   ],
   "source": [
    "data[\"SO2 Mean\"].dropna()"
   ]
  },
  {
   "cell_type": "code",
   "execution_count": 33,
   "metadata": {},
   "outputs": [
    {
     "data": {
      "text/plain": [
       "0"
      ]
     },
     "execution_count": 33,
     "metadata": {},
     "output_type": "execute_result"
    }
   ],
   "source": [
    "sum(data[\"SO2 Mean\"] > 300)"
   ]
  },
  {
   "cell_type": "code",
   "execution_count": 38,
   "metadata": {},
   "outputs": [
    {
     "name": "stderr",
     "output_type": "stream",
     "text": [
      "C:\\Users\\jerry\\anaconda3\\lib\\site-packages\\matplotlib\\cbook\\__init__.py:1316: RuntimeWarning: invalid value encountered in less_equal\n",
      "  wiskhi = x[x <= hival]\n",
      "C:\\Users\\jerry\\anaconda3\\lib\\site-packages\\matplotlib\\cbook\\__init__.py:1323: RuntimeWarning: invalid value encountered in greater_equal\n",
      "  wisklo = x[x >= loval]\n",
      "C:\\Users\\jerry\\anaconda3\\lib\\site-packages\\matplotlib\\cbook\\__init__.py:1331: RuntimeWarning: invalid value encountered in less\n",
      "  x[x < stats['whislo']],\n",
      "C:\\Users\\jerry\\anaconda3\\lib\\site-packages\\matplotlib\\cbook\\__init__.py:1332: RuntimeWarning: invalid value encountered in greater\n",
      "  x[x > stats['whishi']],\n"
     ]
    },
    {
     "data": {
      "image/png": "[encoded data removed]",
      "text/plain": [
       "<Figure size 432x288 with 1 Axes>"
      ]
     },
     "metadata": {
      "needs_background": "light"
     },
     "output_type": "display_data"
    }
   ],
   "source": [
    "plt.boxplot(data[\"SO2 Mean\"])\n",
    "plt.show()"
   ]
  },
  {
   "cell_type": "code",
   "execution_count": null,
   "metadata": {},
   "outputs": [],
   "source": []
  }
 ],
 "metadata": {
  "kernelspec": {
   "display_name": "Python 3",
   "language": "python",
   "name": "python3"
  },
  "language_info": {
   "codemirror_mode": {
    "name": "ipython",
    "version": 3
   },
   "file_extension": ".py",
   "mimetype": "text/x-python",
   "name": "python",
   "nbconvert_exporter": "python",
   "pygments_lexer": "ipython3",
   "version": "3.7.6"
  }
 },
 "nbformat": 4,
 "nbformat_minor": 4
}
